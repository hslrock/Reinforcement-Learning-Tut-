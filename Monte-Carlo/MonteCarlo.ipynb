{
 "cells": [
  {
   "cell_type": "code",
   "execution_count": 226,
   "metadata": {},
   "outputs": [],
   "source": [
    "import os,sys,inspect\n",
    "sys.path.insert(1, os.path.join(sys.path[0], '..'))"
   ]
  },
  {
   "cell_type": "code",
   "execution_count": 227,
   "metadata": {},
   "outputs": [
    {
     "name": "stdout",
     "output_type": "stream",
     "text": [
      "The autoreload extension is already loaded. To reload it, use:\n",
      "  %reload_ext autoreload\n"
     ]
    }
   ],
   "source": [
    "%load_ext autoreload\n",
    "%autoreload 2"
   ]
  },
  {
   "cell_type": "code",
   "execution_count": 228,
   "metadata": {},
   "outputs": [],
   "source": [
    "import env.env as env\n",
    "import numpy as np"
   ]
  },
  {
   "cell_type": "code",
   "execution_count": 229,
   "metadata": {},
   "outputs": [],
   "source": [
    "import random"
   ]
  },
  {
   "cell_type": "code",
   "execution_count": 230,
   "metadata": {},
   "outputs": [],
   "source": [
    "states = [[i, j] for i in range(4) for j in range(4)]"
   ]
  },
  {
   "cell_type": "code",
   "execution_count": 312,
   "metadata": {},
   "outputs": [],
   "source": [
    "#One Episodestartx=random.randint(0,3)\n",
    "grid=env.Grid_game(height,width)\n",
    "Counter=np.zeros((width,height))\n",
    "#starty=0\n",
    "#startx=3\n",
    "history=[]\n",
    "Returns=np.zeros((height,width))\n",
    "rewards=0\n",
    "k=0.8\n",
    "\n",
    "y,x=grid.player.curpos\n",
    "\n",
    "num_episodes=10000\n",
    "for i in range(num_episodes):\n",
    "    state_list=[]\n",
    "    starty,startx = random.choice(states[1:-1])\n",
    "    grid.set_pos(starty,startx)\n",
    "    iteration=0\n",
    "    rewards=0\n",
    "    while(not grid.state):\n",
    "        iteration+=1\n",
    "        state_list.append(grid.player.curpos[:])\n",
    "        state,cur_state,reward,_=grid.transition()\n",
    "        \n",
    "#    print(state_list)\n",
    "    state_list.reverse()   \n",
    " #   print(state_list[1:])\n",
    "    G=0\n",
    "    for pos in state_list[1:]:\n",
    "        \n",
    "        G=G*k+(grid.fix_reward_val)\n",
    "        Counter[pos[0]][pos[1]]+=1\n",
    "        grid.vst[pos[0]][pos[1]]=grid.vst[pos[0]][pos[1]]+(0.001)*(G-grid.vst[pos[0]][pos[1]])\n",
    "     #   grid.vst[pos[0]][pos[1]]=grid.vst[pos[0]][pos[1]]+(1/Counter[pos[0]][pos[1]])*(G-grid.vst[pos[0]][pos[1]])\n",
    "  #  print(grid.vst)\n",
    "    grid.vst=np.round(grid.vst,3)\n",
    "    history.append(grid.vst[:].copy())\n",
    "        \n",
    "\n",
    "\n"
   ]
  },
  {
   "cell_type": "code",
   "execution_count": 313,
   "metadata": {},
   "outputs": [
    {
     "data": {
      "image/png": "[encoded data removed]",
      "text/plain": [
       "<Figure size 432x288 with 1 Axes>"
      ]
     },
     "metadata": {
      "needs_background": "light"
     },
     "output_type": "display_data"
    }
   ],
   "source": [
    "import matplotlib.pyplot as plt\n",
    "\n",
    "history=np.array(history).reshape(num_episodes,16)\n",
    "for i in range(16):\n",
    "    plt.plot(history[0:num_episodes,i]*-1)"
   ]
  },
  {
   "cell_type": "code",
   "execution_count": 314,
   "metadata": {},
   "outputs": [
    {
     "data": {
      "text/plain": [
       "array([[ 0.   , -3.752, -4.113, -4.443],\n",
       "       [-3.948, -3.78 , -4.196, -4.114],\n",
       "       [-4.133, -4.174, -3.849, -3.914],\n",
       "       [-4.454, -4.208, -3.915,  0.   ]])"
      ]
     },
     "execution_count": 314,
     "metadata": {},
     "output_type": "execute_result"
    }
   ],
   "source": [
    "grid.vst"
   ]
  },
  {
   "cell_type": "code",
   "execution_count": 304,
   "metadata": {},
   "outputs": [],
   "source": [
    "\n",
    "\n",
    "grid=env.Grid_game(height,width)\n",
    "Counter=np.zeros((width,height))\n",
    "#starty=0\n",
    "#startx=3\n",
    "history=[]\n",
    "\n",
    "Returns=np.zeros((height,width))\n",
    "rewards=0\n",
    "k=0.8\n",
    "\n",
    "y,x=grid.player.curpos\n",
    "\n",
    "num_episodes=10000\n",
    "for i in range(num_episodes):\n",
    "    state_list=[]\n",
    "    action_list=[]\n",
    "    starty,startx = random.choice(states[1:-1])\n",
    "    grid.set_pos(starty,startx)\n",
    "    iteration=0\n",
    "    rewards=0\n",
    "    while(not grid.state):\n",
    "        iteration+=1\n",
    "        state,cur_state,reward,action=grid.transition()\n",
    "        action_list.append(action)\n",
    "        state_list.append(grid.player.oldpos[:])\n",
    "#    print(state_list)\n",
    "    state_list.reverse()   \n",
    " #   print(state_list[1:])\n",
    "    \n",
    "    G=0\n",
    "    for act,pos in zip(action_list,state_list):\n",
    "        \n",
    "        G=G*k+(grid.fix_reward_val)\n",
    "        Counter[pos[0]][pos[1]]+=1\n",
    "        grid.ast[act][pos[0]][pos[1]]=grid.ast[act][pos[0]][pos[1]]+(0.001)*(G-grid.ast[act][pos[0]][pos[1]])\n",
    "    grid.ast=np.round(grid.ast,3)\n",
    "  #  print(grid.vst)\n",
    "    \n",
    "    history.append(grid.vst[:].copy())\n",
    "        "
   ]
  },
  {
   "cell_type": "code",
   "execution_count": 302,
   "metadata": {},
   "outputs": [
    {
     "data": {
      "text/plain": [
       "array([3, 0, 0])"
      ]
     },
     "execution_count": 302,
     "metadata": {},
     "output_type": "execute_result"
    }
   ],
   "source": [
    "np.random.choice(3, )"
   ]
  },
  {
   "cell_type": "code",
   "execution_count": 308,
   "metadata": {},
   "outputs": [
    {
     "data": {
      "text/plain": [
       "array([4, 6])"
      ]
     },
     "execution_count": 308,
     "metadata": {},
     "output_type": "execute_result"
    }
   ],
   "source": [
    "np.add((3,4),(1,2))"
   ]
  },
  {
   "cell_type": "code",
   "execution_count": null,
   "metadata": {},
   "outputs": [],
   "source": []
  }
 ],
 "metadata": {
  "kernelspec": {
   "display_name": "Python 3",
   "language": "python",
   "name": "python3"
  },
  "language_info": {
   "codemirror_mode": {
    "name": "ipython",
    "version": 3
   },
   "file_extension": ".py",
   "mimetype": "text/x-python",
   "name": "python",
   "nbconvert_exporter": "python",
   "pygments_lexer": "ipython3",
   "version": "3.7.6"
  }
 },
 "nbformat": 4,
 "nbformat_minor": 4
}
