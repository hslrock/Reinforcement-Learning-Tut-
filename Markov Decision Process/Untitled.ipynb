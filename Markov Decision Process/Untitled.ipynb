{
 "cells": [
  {
   "cell_type": "code",
   "execution_count": 5,
   "metadata": {},
   "outputs": [],
   "source": [
    "import numpy as np\n",
    "import matplotlib.pyplot as plt\n",
    "from pprint import pprint\n",
    "\n",
    "%matplotlib inline\n",
    "plt.rcParams['figure.figsize'] = (10.0, 8.0) # set default size of plots\n",
    "plt.rcParams['image.interpolation'] = 'nearest'\n",
    "plt.rcParams['image.cmap'] = 'gray'\n",
    "\n",
    "import gym \n"
   ]
  },
  {
   "cell_type": "code",
   "execution_count": 6,
   "metadata": {},
   "outputs": [],
   "source": [
    "import base64\n",
    "import glob\n",
    "import io\n",
    "from IPython.display import HTML\n",
    "from IPython import display \n",
    "\n",
    "def show_video():\n",
    "    mp4list = glob.glob('video/*.mp4')\n",
    "    if len(mp4list) > 0:\n",
    "        mp4 = mp4list[0]\n",
    "        video = io.open(mp4, 'r+b').read()\n",
    "        encoded = base64.b64encode(video)\n",
    "        display.display(HTML(data='''<video alt=\"test\" autoplay \n",
    "                loop controls style=\"height: 400px;\">\n",
    "                <source src=\"data:video/mp4;base64,{0}\" type=\"video/mp4\" />\n",
    "             </video>'''.format(encoded.decode('ascii'))))\n",
    "    else:\n",
    "        print(\"Could not find video\")"
   ]
  },
  {
   "cell_type": "code",
   "execution_count": 28,
   "metadata": {},
   "outputs": [],
   "source": [
    "from gym import spaces\n",
    "from gym_minigrid.minigrid import OBJECT_TO_IDX, COLOR_TO_IDX\n",
    "\n",
    "max_env_steps = 50\n",
    "\n",
    "class FlatObsWrapper(gym.core.ObservationWrapper):\n",
    "    \"\"\"Fully observable gridworld returning a flat grid encoding.\"\"\"\n",
    "\n",
    "    def __init__(self, env):\n",
    "        super().__init__(env)\n",
    "\n",
    "        # Since the outer walls are always present, we remove left, right, top, bottom walls\n",
    "        # from the observation space of the agent. There are 3 channels, but for simplicity\n",
    "        # in this assignment, we will deal with flattened version of state.\n",
    "        \n",
    "        self.observation_space = spaces.Box(\n",
    "            low=0,\n",
    "            high=255,\n",
    "            shape=((self.env.width-2) * (self.env.height-2) * 3,),  # number of cells\n",
    "            dtype='uint8'\n",
    "        )\n",
    "        self.unwrapped.max_steps = max_env_steps\n",
    "\n",
    "    def observation(self, obs):\n",
    "        # this method is called in the step() function to get the observation\n",
    "        # we provide code that gets the grid state and places the agent in it\n",
    "        env = self.unwrapped\n",
    "        full_grid = env.grid.encode()\n",
    "        full_grid[env.agent_pos[0]][env.agent_pos[1]] = np.array([\n",
    "            OBJECT_TO_IDX['agent'],\n",
    "            COLOR_TO_IDX['red'],\n",
    "            env.agent_dir\n",
    "        ])\n",
    "        full_grid = full_grid[1:-1, 1:-1]   # remove outer walls of the environment (for efficiency)\n",
    "        \n",
    "        flattened_grid = full_grid.ravel()\n",
    "        return full_grid\n",
    "    \n",
    "    def render(self, *args, **kwargs):\n",
    "        \"\"\"This removes the default visualization of the partially observable field of view.\"\"\"\n",
    "        kwargs['highlight'] = False\n",
    "        return self.unwrapped.render(*args, **kwargs)"
   ]
  },
  {
   "cell_type": "code",
   "execution_count": 31,
   "metadata": {},
   "outputs": [
    {
     "name": "stdout",
     "output_type": "stream",
     "text": [
      "[[[10  0  0]\n",
      "  [ 1  0  0]\n",
      "  [ 1  0  0]]\n",
      "\n",
      " [[ 1  0  0]\n",
      "  [ 1  0  0]\n",
      "  [ 1  0  0]]\n",
      "\n",
      " [[ 1  0  0]\n",
      "  [ 1  0  0]\n",
      "  [ 8  1  0]]]\n",
      "[[[ 1  0  0]\n",
      "  [ 1  0  0]\n",
      "  [ 1  0  0]]\n",
      "\n",
      " [[10  0  0]\n",
      "  [ 1  0  0]\n",
      "  [ 1  0  0]]\n",
      "\n",
      " [[ 1  0  0]\n",
      "  [ 1  0  0]\n",
      "  [ 8  1  0]]]\n"
     ]
    },
    {
     "data": {
      "image/png": "[encoded data removed]",
      "text/plain": [
       "<Figure size 720x576 with 1 Axes>"
      ]
     },
     "metadata": {
      "needs_background": "light"
     },
     "output_type": "display_data"
    }
   ],
   "source": [
    "env = FlatObsWrapper(gym.make('MiniGrid-Empty-5x5-v0'))\n",
    "\n",
    "# Reset the environment\n",
    "obs=env.reset()\n",
    "print(obs)\n",
    "# Select the action right\n",
    "action = env.actions.right\n",
    "action= env.actions.forward\n",
    "# Take a step in the environment and store it in appropriate variables\n",
    "img_list=[]\n",
    "img_list.append(env.render('rgb_array'))\n",
    "\n",
    "obs, reward, done, info = env.step(action)\n",
    "print(obs)\n",
    "# Render the current state of the environment\n",
    "img = env.render('rgb_array')\n",
    "img_list.append(img)\n",
    "################# YOUR CODE ENDS HERE ###############################\n",
    "\n",
    "\n",
    "# print('Observation:', obs, ', Observation Shape: ', obs.shape)\n",
    "# print('Reward:', reward)\n",
    "# print('Done:', done)\n",
    "# print('Info:', info)\n",
    "# print('Image shape:', img.shape)\n",
    "plt.imshow(np.concatenate([img_list[0], img_list[1]], 1));"
   ]
  },
  {
   "cell_type": "code",
   "execution_count": 18,
   "metadata": {},
   "outputs": [],
   "source": [
    "from gym.wrappers import Monitor\n",
    "\n",
    "# Monitor is a gym wrapper, which helps easy rendering of videos of the wrapped environment.\n",
    "def wrap_env(env):\n",
    "    env = Monitor(env, './video', force=True)\n",
    "    return env\n",
    "\n",
    "def gen_wrapped_env(env_name):\n",
    "    return wrap_env(FlatObsWrapper(gym.make(env_name)))"
   ]
  },
  {
   "cell_type": "code",
   "execution_count": 10,
   "metadata": {},
   "outputs": [],
   "source": [
    "class RandPolicy:\n",
    "    def __init__(self, action_space):\n",
    "        self.action_space = action_space\n",
    "        \n",
    "    def act(self, *unused_args):\n",
    "        return self.action_space.sample(), None"
   ]
  },
  {
   "cell_type": "code",
   "execution_count": 11,
   "metadata": {},
   "outputs": [
    {
     "name": "stdout",
     "output_type": "stream",
     "text": [
      "Total reward: 0\n",
      "Total length: 50\n"
     ]
    },
    {
     "data": {
      "text/html": [
       "<video alt=\"test\" autoplay \n",
       "                loop controls style=\"height: 400px;\">\n",
       "                <source src=\"data:video/mp4;base64,AAAAIGZ0eXBpc29tAAACAGlzb21pc28yYXZjMW1wNDEAAAAIZnJlZQAAEwJtZGF0AAACrwYF//+r3EXpvebZSLeWLNgg2SPu73gyNjQgLSBjb3JlIDE0NiByMjUzOCAxMjEzOTZjIC0gSC4yNjQvTVBFRy00IEFWQyBjb2RlYyAtIENvcHlsZWZ0IDIwMDMtMjAxNSAtIGh0dHA6Ly93d3cudmlkZW9sYW4ub3JnL3gyNjQuaHRtbCAtIG9wdGlvbnM6IGNhYmFjPTEgcmVmPTMgZGVibG9jaz0xOjA6MCBhbmFseXNlPTB4MzoweDExMyBtZT1oZXggc3VibWU9NyBwc3k9MSBwc3lfcmQ9MS4wMDowLjAwIG1peGVkX3JlZj0xIG1lX3JhbmdlPTE2IGNocm9tYV9tZT0xIHRyZWxsaXM9MSA4eDhkY3Q9MSBjcW09MCBkZWFkem9uZT0yMSwxMSBmYXN0X3Bza2lwPTEgY2hyb21hX3FwX29mZnNldD0tMiB0aHJlYWRzPTEyIGxvb2thaGVhZF90aHJlYWRzPTIgc2xpY2VkX3RocmVhZHM9MCBucj0wIGRlY2ltYXRlPTEgaW50ZXJsYWNlZD0wIGJsdXJheV9jb21wYXQ9MCBjb25zdHJhaW5lZF9pbnRyYT0wIGJmcmFtZXM9MyBiX3B5cmFtaWQ9MiBiX2FkYXB0PTEgYl9iaWFzPTAgZGlyZWN0PTEgd2VpZ2h0Yj0xIG9wZW5fZ29wPTAgd2VpZ2h0cD0yIGtleWludD0yNTAga2V5aW50X21pbj0xMCBzY2VuZWN1dD00MCBpbnRyYV9yZWZyZXNoPTAgcmNfbG9va2FoZWFkPTQwIHJjPWNyZiBtYnRyZWU9MSBjcmY9MjMuMCBxY29tcD0wLjYwIHFwbWluPTAgcXBtYXg9NjkgcXBzdGVwPTQgaXBfcmF0aW89MS40MCBhcT0xOjEuMDAAgAAAA11liIQAEf/+94gfMsmNfq13IR560urR9Q7kZxXqS+ATjB26FnpHRX5YSH9J8ovOpecQAy5nAVZHWPjdlRYwgeIuQBWf9dmzKOGodFJ5TrWl8xOh2VuzXcwufVZpDY8pDTQd6PtKLm2DvSZxTm6FX9gBskQDrjE3ImTR/9xClSMa68KHKlWiqN6uNG5GVcniDc5a/XxXHzwrygE/y9QHBlHk7jAeqOndVews2uQ4ysNl3Lv6cr6lGF8x6h0uRQXJxjhb35FiV+El9U0DAKjtupGNlezoxg0oq7UydsyivhQMeOm7Kl53/NL5Ej7BPFBLlGvprNBC3mfKjaO4HJQ0J5F3syC7xSXaIX5r5SKrMWUob4HxsRZ9SrzVmTIa+JNPv+qqmzTKswFK26+BfI4MhYYIQrUuuzTph8NyiSCJCDWNwMGeU8XBHFa+vjiLXAhHIc0IA3vCYzxw+MKOMFRhGNMlKcWsEUzHy0vvThTuqa+DJMQa3toyz5P6UrkRtkBAIqkqq3kktTBrq9yjICARVJ/x+X9EZg9wbaFVzCeH81C6TsKC8wKJWzbmAiqT/j824wtj21wBkgIG19EebQquYTw/ms8hO/W4aiyRkmmXD+ahpV5M2edsQTVCARVJ+I5lJ7ngnbYqKOyyAgEVSVVbx+a8UJO7aebC+8kuxY4WPyd+4l2bcwEVSU8dT0IpxtYAai3R9PV4KPNhfeSXYcG1yGiLzGsprXdwplG01xDDsQeinTzmE8P5rOE3yGSBxsoX0AyX4uHo/c5d1EgTp5zBkvxc1cay4z7mTi7u6dih01rZW8FbgGhhfmZ7zWaecwnh/NZwNch3UxMyhfQE8P5rORWGrzr2SMk0vS/Fw7YIcIvkt0TWu7p2KHZun0SvhqWUL6Anh/NQt/CR2i8EdDtsE8UEuUa9b+dF3Dcu1DojHcsy4hVNHeqPTMFE++1gMK86z00s4VlW71BVcwnh/NQtluMdCyR05WSTtzARVJ/x+aTlWqdxRQVXMJ4fzWcF1mEY+pNC+gJ4fzWcHMKYwRLKF9AMl+LmrZZfvPJPg4whJar3N3wQvtTwvwt+Ui059E/+q33d4QBHh8Q7Um1mEfsgUM2vw5GGAbDBI1Qdi9gy0MwXwMQFcqD8xqvTsGYAQNEAAAEAQZokbEEf/rUqgW0lMv8f+cgBMSrLFX8uYqqz+6+vX2oC08HrXqifxP9yChtb5frByAjWmS34zaZ99P4QnTdqBupzkCtPZ7PSoPxI0zcO4Y6ICglLeJ8s3eGAcpjzwVLOzmCQ9SQhZSgjQCyomchrtHJo3o0Xr9L80RNuhRZ9NV55dc8V3IxRHCa9EXTFA1NX44IoT0FJ9b/wCdayG+uHOydijCK4yM+DqBbWiV/ZZGwTSNAe4//BXRsHXpqKgbYnth9Axq/dFp/mBQoTY8QhtfpwkI79QSqjsTItNhtPMiumJNf1L/ZMi1zEOtjb8Tzg+hEpgVdeQUjd8kvY8BpXwAAAAMFBnkJ4h38A/2KbVqg0WsAG1XQ7Q9ix//lyemBz0FcHHJz3XqMjegycyLC5Vovy87ZYN8PHwQkJd9ZpV8lBUt2F4xBH+oR6hDB7+L2dxoWdpORWW+6xyNr4xxnozsooH9p1A6DfOEgjBnEMQ55fXUEfhdMYRS1EygwV524cDCBPOycgRewmEQaXdy6cSbCVIXBsCtgmoupi43T+EuNWd5pfb8VIRpnI3KDQK3Ggc8TMZK6CZ9yLCUDsiOjqFcuDqNmRAAAAEgGeYXRDfwFqhM1PXmecAXFvYAAAAKoBnmNqQ38BQ1gKDcAJatOtzfGJcu00rDizYBlBtz6ECr3jaMCU2gOM33IFsVm7Jkuuj9XiCnOp1s1gi3CJxQUI3pPjKnmOwSmO5e2AI5BjkKUdaQfoHarTe5zOBtrgHDsIcmer3CIlPTOvI2iQFnJMdXAG/CvqJhAyTbKfgcATxG3o5FFNcfGly76fs1EnUL/b6vSmtK4V3jyrLhDGlcQDcoMeOxv8l9FQQQAAAOJBmmhJqEFomUwII//+tSqBAEQkbJVVygAmr3MAxriTwPeV+UWqWWgiCGwVYpSaNCocszQoVGslpbnpYH95qtxvLbzZsdWEYJC+2jRj7l8ssExrolOMu4TMgeS8fjlGObrCqIx82ScS1RZpt4HPjzhptjCI9uC0dpCE3vyNyPw8QN7V/AB1kQeAIHSMghxxlyg/tVUVR/dMKBFv6AtmLvBtkggx1YPu3zag/xxSv953VmPe1CfXTqo56ReXIjnbSELBNJMWheIzG1GO19kWVrwaxIc2hiXE1gAHwEfLmu4Tp0PBAAAAEkGehkURLDv/AOUP16pEyHudMQAAAAoBnqV0Q38AAPSBAAAADwGep2pDfwFFiKJd2uIqCAAAASBBmqxJqEFsmUwII//+tSqBX5yEAR8i89vOFw/8g3zn97Tttps5pvDfv3OKOLrd1/JPn8MTtNpyp6F/9U+nVfNR2CqLRaozzNpSFD39ry+FpImv9HyMWGra+X9Q5vxQfMr0tNHQs+nGeeuELiAjusDlC1fRCghBjghYCuB0RH1HxQcKeaVU7ARZdApwKHud0n+Y8oGS5R8K1dv/0BAkHhjn76cAB59jQuid/fyOh+nBZzFl55YqRiIYSCIPFJLry1uVhOglofmySzfqBlVJFXSWPLADu3gxqigQGJrHGr+wyo3aA3oMXzPAFU2s8R/BTG/WXozRHgnMNNXLFWz1JPXDkverF3sW0jcVIKvLEfy+a3qtgwVEaHalE5EufHgNK+AAAAAVQZ7KRRUsO/8A/6vXm2OEdpsrSgeBAAAACgGe6XRDfwAA9IAAAAC3AZ7rakN/AWpdJaMDikQAXVcEAVKF0AXMPi2ce/MwJt/+sXZghjjssh2opwIjhtxmSBGkf8xcAKHvRrn3N4CqV2wkZbFuzY1ea5gga0rQsmiwcGt7LwXAWs1lZNCMOeh84Tquzv9mgXdLIvJgJmQ78C6COcqvq8YVkdOPFc+Xx76qU9Sd6yvDAYk4zWWToFm4NxOiAFRmhG+1eSeXHnNEChu2LAS3Ozfsms9MFC0DbbJN6iCtGOTgAAAAGEGa8EmoQWyZTAgj//61KoEAyftwiKYXkQAAAAxBnw5FFSw7/wAAr4EAAAAKAZ8tdEN/AAD0gQAAAAoBny9qQ38AAPSAAAAAE0GbNEmoQWyZTAgj//61KoAALOAAAAAMQZ9SRRUsO/8AAK+BAAAACgGfcXRDfwAA9IAAAAAKAZ9zakN/AAD0gAAAAO5Bm3hJqEFsmUwII//+tSqBXYYenlho+AAAJ29xJqFTR6HpP/Nduy1BOyudpScyQOffe0arv0e8QuCxhBOgdxQK79kSrCCk8CW7AQXag4pvCVJn8fAgdoSZCCTL3bSRWsi/AbOjj/mQrmrJADVZDTZpNor12wrdtIHBO+Asc89omebzqY9L8lOyfm0jDJ2A2smyie45omWJjmnoOkQYRMcc9XdN8IiDqW7ERDUPJkGEgo0jApLGvSwvHEPSI4uwWsoaDVQtrbIQDHZnLnguIibjY3tRUF8Jd5WmAkWXB1m71sVU6d35RkoNPK8FIWzBAAAAEkGflkUVLDv/AP+r16nUyHcb0AAAAAoBn7V0Q38AAPSBAAAADwGft2pDfwFqAKJamuFJeQAAAPBBm7xJqEFsmUwII//+tSqBYpH43tQBGSGuXUt6JkjoP/8Iv9zYKXdG9NAyNyJA8kIZ6KG1V5faJsvQjFEArFt57KcSXq7u8JfphQdmgxGFssNQZsyiDsknv///V1zyz17a0m60Kv+ZHJEfzJ55pVyOKaaWklkkNnih2lSNOQU1mPt3+Hbn3x8HEzgjSYPOr8Jxqzy04QxU5vM5S2R+4HYM+F7xqyYLaVnXfv4/F1YHcjbQfHmMJL0v6TE+IZaE/TLwYYzKGrf8U8Zw7L817wKdxhuDFX3N5243wR4CINH57pd7dqNa4pCFRRFlg8rAZLwAAAASQZ/aRRUsO/8A/6vXqdTIdxvRAAAAEAGf+XRDfwFqKieRpSTDzegAAAAPAZ/7akN/AWoAolqa4Ul5AAABIEGb4EmoQWyZTAgj//61KoFdRwq9xIQBYfcSbNsHSvQP4nnpP1eBO6R8vXv0YaOMkuyiv3AUXlifojY1erc2S5NtEAx6vthICxB3Bl9VADuFGG/q0fRyEqn9NsNVttqyXRJINciWCII6q4qI7/wekT07XBIdQl5BKoHCXku0s7POD0iYI53BB76tf21loVpMNHan6ucmnHRvwYFnewhEbCEGu3eCVobjlVZDPJtvNRjLKPw8vuGlbmpUFQKS56f5X7fVY98QaxmmBbqUs7BS9qQcunvmTDai01q6TgHrDQLbvjAhtCH6ZWqrjc6wVZOIQyu5oySpgFaqLI9H2p/ya8imbqbwtnhvNA1aSSQjWclJsOHBmGzLBTqbpGx3MDKz5wAAABFBnh5FFSw7/wD/YpwUaP7jegAAAA8Bnj10Q38BadVS/2PxaS8AAAAKAZ4/akN/AAD0gQAAABNBmiRJqEFsmUwII//+tSqAACzgAAAADEGeQkUVLDv/AACvgQAAAAoBnmF0Q38AAPSAAAAACgGeY2pDfwAA9IEAAAD2QZpoSahBbJlMCCP//rUqgV2O8EIsYvAA43zE+f+r3PAOMshksqUlqxsA5xILLaPVEaeTZbuZBBgdyqIowCb3Fo5OHK21DK/eucPqcS63h95H0ZKeHTCLTOY+GrSaI73JEXhvDYLnhn1V/VzoCDMo509bdiZHGXennB1dbr4M6K1S7QFV1OvXlNL4OCR//5mP489NZ0sufi2EyTaCNNplnwTWxSVB5ucVxvn2Ulq7ZkVz8Ak2T9IXpySyC3WPabgs53/jPFfkmlkxu9Php0xpSeIAYkymhTtQWhuTbIdzHHGYVlc3X3P/MsgQ8ebn+aIHdHlMrPmBAAAAEkGehkUVLDv/AP+r16nUyHcb0QAAAAoBnqV0Q38AAPSBAAAADwGep2pDfwFqAKJamuFJeAAAABpBmqxJqEFsmUwIIf/+qlUCvddg1QrE9EmvIAAAABJBnspFFSw7/wD/q9ep1Mh3G9EAAAAKAZ7pdEN/AAD0gAAAABABnutqQ38Bal0mQJgpWkvAAAAAGkGa8EmoQWyZTAh///6plglhnEXjRk4utn+BAAAAEkGfDkUVLDv/AP+r16nUyHcb0QAAAAoBny10Q38AAPSBAAAAEAGfL2pDfwFqXSZAmClaS8AAAAC/QZsySahBbJlMFEw3//6nhBFWbhOa69VCAE1eg9LRm73/+Wn0v0oLvpunwzxCYIMkUpYeg+hLlSSvxc7DAFA/rWi1gWmKMr5b7w4caXcYI7H9HPqgorMpRz/A7iNAGnF243xu15N4g2K/ZAjPULC0X6Y/GHZFeXQ2h3atnLSgjmI8L7yfxuwoab530BF0mVFMtXyHKJ4+j8zKBauUFF+KG/df74Wp1tMNGikpuIsIkzZOKyHpDBitql5ylowy5/gAAAAQAZ9RakN/AWkSNrGFHebm9QAABXZtb292AAAAbG12aGQAAAAAAAAAAAAAAAAAAAPoAAAT7AABAAABAAAAAAAAAAAAAAAAAQAAAAAAAAAAAAAAAAAAAAEAAAAAAAAAAAAAAAAAAEAAAAAAAAAAAAAAAAAAAAAAAAAAAAAAAAAAAAAAAAACAAAEoHRyYWsAAABcdGtoZAAAAAMAAAAAAAAAAAAAAAEAAAAAAAAT7AAAAAAAAAAAAAAAAAAAAAAAAQAAAAAAAAAAAAAAAAAAAAEAAAAAAAAAAAAAAAAAAEAAAAABAAAAAQAAAAAAACRlZHRzAAAAHGVsc3QAAAAAAAAAAQAAE+wAAAgAAAEAAAAABBhtZGlhAAAAIG1kaGQAAAAAAAAAAAAAAAAAACgAAADMAFXEAAAAAAAtaGRscgAAAAAAAAAAdmlkZQAAAAAAAAAAAAAAAFZpZGVvSGFuZGxlcgAAAAPDbWluZgAAABR2bWhkAAAAAQAAAAAAAAAAAAAAJGRpbmYAAAAcZHJlZgAAAAAAAAABAAAADHVybCAAAAABAAADg3N0YmwAAACXc3RzZAAAAAAAAAABAAAAh2F2YzEAAAAAAAAAAQAAAAAAAAAAAAAAAAAAAAABAAEAAEgAAABIAAAAAAAAAAEAAAAAAAAAAAAAAAAAAAAAAAAAAAAAAAAAAAAAAAAAAAAY//8AAAAxYXZjQwFkAAz/4QAYZ2QADKzZQQCGhAAAAwAEAAADAFA8UKZYAQAGaOvjyyLAAAAAGHN0dHMAAAAAAAAAAQAAADMAAAQAAAAAFHN0c3MAAAAAAAAAAQAAAAEAAAGoY3R0cwAAAAAAAAAzAAAAAQAACAAAAAABAAAUAAAAAAEAAAgAAAAAAQAAAAAAAAABAAAEAAAAAAEAABQAAAAAAQAACAAAAAABAAAAAAAAAAEAAAQAAAAAAQAAFAAAAAABAAAIAAAAAAEAAAAAAAAAAQAABAAAAAABAAAUAAAAAAEAAAgAAAAAAQAAAAAAAAABAAAEAAAAAAEAABQAAAAAAQAACAAAAAABAAAAAAAAAAEAAAQAAAAAAQAAFAAAAAABAAAIAAAAAAEAAAAAAAAAAQAABAAAAAABAAAUAAAAAAEAAAgAAAAAAQAAAAAAAAABAAAEAAAAAAEAABQAAAAAAQAACAAAAAABAAAAAAAAAAEAAAQAAAAAAQAAFAAAAAABAAAIAAAAAAEAAAAAAAAAAQAABAAAAAABAAAUAAAAAAEAAAgAAAAAAQAAAAAAAAABAAAEAAAAAAEAABQAAAAAAQAACAAAAAABAAAAAAAAAAEAAAQAAAAAAQAAFAAAAAABAAAIAAAAAAEAAAAAAAAAAQAABAAAAAABAAAMAAAAAAEAAAQAAAAAHHN0c2MAAAAAAAAAAQAAAAEAAAAzAAAAAQAAAOBzdHN6AAAAAAAAAAAAAAAzAAAGFAAAAQQAAADFAAAAFgAAAK4AAADmAAAAFgAAAA4AAAATAAABJAAAABkAAAAOAAAAuwAAABwAAAAQAAAADgAAAA4AAAAXAAAAEAAAAA4AAAAOAAAA8gAAABYAAAAOAAAAEwAAAPQAAAAWAAAAFAAAABMAAAEkAAAAFQAAABMAAAAOAAAAFwAAABAAAAAOAAAADgAAAPoAAAAWAAAADgAAABMAAAAeAAAAFgAAAA4AAAAUAAAAHgAAABYAAAAOAAAAFAAAAMMAAAAUAAAAFHN0Y28AAAAAAAAAAQAAADAAAABidWR0YQAAAFptZXRhAAAAAAAAACFoZGxyAAAAAAAAAABtZGlyYXBwbAAAAAAAAAAAAAAAAC1pbHN0AAAAJal0b28AAAAdZGF0YQAAAAEAAAAATGF2ZjU2LjM2LjEwMA==\" type=\"video/mp4\" />\n",
       "             </video>"
      ],
      "text/plain": [
       "<IPython.core.display.HTML object>"
      ]
     },
     "metadata": {},
     "output_type": "display_data"
    }
   ],
   "source": [
    "def log_policy_rollout(policy, env_name, pytorch_policy=False):\n",
    "    # Create environment with flat observation\n",
    "    env = gen_wrapped_env(env_name)\n",
    "\n",
    "    # Initialize environment\n",
    "    observation = env.reset()\n",
    "\n",
    "    done = False\n",
    "    episode_reward = 0\n",
    "    episode_length = 0\n",
    "\n",
    "    # Run until done == True\n",
    "    while not done:\n",
    "      # Take a step\n",
    "        if pytorch_policy: \n",
    "            observation = torch.tensor(observation, dtype=torch.float32)\n",
    "            action = policy.act(observation)[0].data.cpu().numpy()\n",
    "        else:\n",
    "            action = policy.act(observation)[0]\n",
    "        observation, reward, done, info = env.step(action)\n",
    "\n",
    "        episode_reward += reward\n",
    "        episode_length += 1\n",
    "\n",
    "    print('Total reward:', episode_reward)\n",
    "    print('Total length:', episode_length)\n",
    "\n",
    "    env.close()\n",
    "    \n",
    "    show_video()\n",
    "\n",
    "# Test that the logging function is working\n",
    "test_env_name = 'MiniGrid-Empty-8x8-v0'\n",
    "rand_policy = RandPolicy(FlatObsWrapper(gym.make(test_env_name)).action_space)\n",
    "log_policy_rollout(rand_policy, test_env_name)"
   ]
  },
  {
   "cell_type": "code",
   "execution_count": null,
   "metadata": {},
   "outputs": [],
   "source": []
  }
 ],
 "metadata": {
  "kernelspec": {
   "display_name": "Python 3",
   "language": "python",
   "name": "python3"
  },
  "language_info": {
   "codemirror_mode": {
    "name": "ipython",
    "version": 3
   },
   "file_extension": ".py",
   "mimetype": "text/x-python",
   "name": "python",
   "nbconvert_exporter": "python",
   "pygments_lexer": "ipython3",
   "version": "3.7.5"
  }
 },
 "nbformat": 4,
 "nbformat_minor": 4
}
