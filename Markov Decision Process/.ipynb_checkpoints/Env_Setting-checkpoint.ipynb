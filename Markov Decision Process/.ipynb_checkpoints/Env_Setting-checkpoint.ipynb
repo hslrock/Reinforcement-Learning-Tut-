{
 "cells": [
  {
   "cell_type": "markdown",
   "metadata": {},
   "source": [
    "![alt text](img/env_setting.png \"Title\")\n",
    "\n",
    "\n",
    "# We set a environment setting based on the image\n"
   ]
  },
  {
   "cell_type": "code",
   "execution_count": 246,
   "metadata": {},
   "outputs": [],
   "source": [
    "import numpy as np\n",
    "import random\n",
    "\n",
    "\"\"\" Enviroment Setting\"\"\"\n",
    "num_actions=4 #num_possible_actions\n",
    "grid_x=4 #width of grid\n",
    "grid_y=4 #height of grid\n",
    "\n",
    "\n",
    "def check_valid(move):\n",
    "    return\n",
    "\n",
    "TERMIN_STATE_POS =[0,0],[3,3]\n",
    "X,Y=2,2\n",
    "AGENT_POS=X,Y#TA"
   ]
  },
  {
   "cell_type": "code",
   "execution_count": 162,
   "metadata": {},
   "outputs": [
    {
     "data": {
      "text/plain": [
       "array([[0., 0., 0., 0.],\n",
       "       [0., 0., 0., 0.],\n",
       "       [0., 0., 0., 0.],\n",
       "       [0., 0., 0., 0.]])"
      ]
     },
     "execution_count": 162,
     "metadata": {},
     "output_type": "execute_result"
    }
   ],
   "source": [
    "np.zeros((grid_x,grid_y))"
   ]
  },
  {
   "cell_type": "code",
   "execution_count": 240,
   "metadata": {},
   "outputs": [],
   "source": [
    "class Grid_game(object):\n",
    "    def __init__(self,grid_x,grid_y,initial_pos=[2,2],TERMIN_STATE_POS =[[0,0],[3,3]]):\n",
    "        \n",
    "        self.current_state=np.zeros((grid_x,grid_y))\n",
    "        self.TERMINAL_STATE_POS=TERMIN_STATE_POS\n",
    "        self.policy=np.zeros((4,grid_x,grid_y))+0.25\n",
    "        \n",
    "        self.ast=np.zeros((grid_x,grid_y))\n",
    "        \n",
    "        self.vst=np.zeros((4,grid_x,grid_y))\n",
    "        \n",
    "        self.fix_reward_val=-1\n",
    "        class Agent(object):\n",
    "            def __init__(self,initial_pos,max_grid=grid_x):\n",
    "                self.oldpos=initial_pos\n",
    "                self.curpos=initial_pos\n",
    "                self.max_grid=max_grid\n",
    "            def north(self):\n",
    "                self.curpos[0]-=1\n",
    "            def south(self):\n",
    "                self.curpos[0]+=1\n",
    "            def east(self):\n",
    "                self.curpos[1]+=1\n",
    "            def west(self):\n",
    "                self.curpos[1]+=1\n",
    "                \n",
    "        self.grid_x=grid_x\n",
    "        self.grid_y=grid_y\n",
    "        self.player=Agent(initial_pos)        \n",
    "        self.update_state(self.player)\n",
    "                \n",
    "    def reset(self):\n",
    "        self.current_state=np.zeros((grid_x,grid_y))\n",
    "    def update_state(self,player):\n",
    "        self.reset()\n",
    "        self.current_state[player.curpos[0]][player.curpos[1]]=1\n",
    "    def check_valid(self,player):\n",
    "        if player.curpos[0]==4:\n",
    "            player.curpos[0]=3\n",
    "        if player.curpos[0]==-1:\n",
    "            player.curpos[0]=0\n",
    "        if player.curpos[1]==4:\n",
    "            player.curpos[1]=3\n",
    "        if player.curpos[1]==-1:\n",
    "            player.curpos[1]=0\n",
    "            \n",
    "    def transition(self):\n",
    "        move = {  0: self.player.north,\n",
    "                      1: self.player.south,\n",
    "                    2:self.player.east,\n",
    "                    3:self.player.west}\n",
    "        rand_val=random.random()\n",
    "        x,y=self.player.curpos\n",
    "        action_index=random.choice(list(enumerate(env.policy[0:4,x,y])))[0]\n",
    "        self.player.oldpos=self.player.curpos\n",
    "        move[action_index]()\n",
    "        self.check_valid(self.player)\n",
    "        self.update_state(self.player)\n",
    "        \n",
    "        \n",
    "    def get_asv():\n",
    "        return self.ast\n",
    "    def get_vst():\n",
    "        return self.vst"
   ]
  },
  {
   "cell_type": "code",
   "execution_count": 241,
   "metadata": {},
   "outputs": [],
   "source": [
    "env=Grid_game(grid_x,grid_y)"
   ]
  },
  {
   "cell_type": "code",
   "execution_count": 242,
   "metadata": {},
   "outputs": [
    {
     "data": {
      "text/plain": [
       "array([0.25, 0.25, 0.25, 0.25])"
      ]
     },
     "execution_count": 242,
     "metadata": {},
     "output_type": "execute_result"
    }
   ],
   "source": [
    "env.policy[0:4,0,0]"
   ]
  },
  {
   "cell_type": "code",
   "execution_count": 243,
   "metadata": {},
   "outputs": [
    {
     "data": {
      "text/plain": [
       "array([[0., 0., 0., 0.],\n",
       "       [0., 0., 0., 0.],\n",
       "       [0., 0., 1., 0.],\n",
       "       [0., 0., 0., 0.]])"
      ]
     },
     "execution_count": 243,
     "metadata": {},
     "output_type": "execute_result"
    }
   ],
   "source": [
    "env.current_state"
   ]
  },
  {
   "cell_type": "code",
   "execution_count": 244,
   "metadata": {},
   "outputs": [
    {
     "name": "stdout",
     "output_type": "stream",
     "text": [
      "[[0. 0. 0. 0.]\n",
      " [0. 0. 0. 0.]\n",
      " [0. 0. 1. 0.]\n",
      " [0. 0. 0. 0.]]\n",
      "[[0. 0. 0. 0.]\n",
      " [0. 0. 1. 0.]\n",
      " [0. 0. 0. 0.]\n",
      " [0. 0. 0. 0.]]\n",
      "[[0. 0. 0. 0.]\n",
      " [0. 0. 0. 0.]\n",
      " [0. 0. 1. 0.]\n",
      " [0. 0. 0. 0.]]\n",
      "[[0. 0. 0. 0.]\n",
      " [0. 0. 0. 0.]\n",
      " [0. 0. 0. 1.]\n",
      " [0. 0. 0. 0.]]\n",
      "[[0. 0. 0. 0.]\n",
      " [0. 0. 0. 0.]\n",
      " [0. 0. 0. 1.]\n",
      " [0. 0. 0. 0.]]\n"
     ]
    }
   ],
   "source": [
    "for i in range(5):\n",
    "    print(env.current_state)\n",
    "    env.transition()\n",
    "    "
   ]
  },
  {
   "cell_type": "code",
   "execution_count": 207,
   "metadata": {},
   "outputs": [
    {
     "data": {
      "text/plain": [
       "array([[0., 0., 0., 0.],\n",
       "       [0., 0., 0., 1.],\n",
       "       [0., 0., 1., 1.],\n",
       "       [0., 0., 0., 1.]])"
      ]
     },
     "execution_count": 207,
     "metadata": {},
     "output_type": "execute_result"
    }
   ],
   "source": [
    "env.current_state"
   ]
  },
  {
   "cell_type": "code",
   "execution_count": 168,
   "metadata": {},
   "outputs": [
    {
     "data": {
      "text/plain": [
       "0.25"
      ]
     },
     "execution_count": 168,
     "metadata": {},
     "output_type": "execute_result"
    }
   ],
   "source": [
    "env.transition()"
   ]
  },
  {
   "cell_type": "code",
   "execution_count": 47,
   "metadata": {},
   "outputs": [],
   "source": [
    "debug=np.random.rand(3,2,2)"
   ]
  },
  {
   "cell_type": "code",
   "execution_count": 48,
   "metadata": {},
   "outputs": [
    {
     "data": {
      "text/plain": [
       "array([[[0.74697251, 0.52877352],\n",
       "        [0.85775423, 0.77951277]],\n",
       "\n",
       "       [[0.72386282, 0.19926466],\n",
       "        [0.65401336, 0.41195075]],\n",
       "\n",
       "       [[0.88606871, 0.87448031],\n",
       "        [0.23183845, 0.40735222]]])"
      ]
     },
     "execution_count": 48,
     "metadata": {},
     "output_type": "execute_result"
    }
   ],
   "source": [
    "debug"
   ]
  },
  {
   "cell_type": "code",
   "execution_count": 50,
   "metadata": {},
   "outputs": [
    {
     "data": {
      "text/plain": [
       "array([0.74697251, 0.72386282, 0.88606871])"
      ]
     },
     "execution_count": 50,
     "metadata": {},
     "output_type": "execute_result"
    }
   ],
   "source": [
    "debug[0:3,0,0]"
   ]
  },
  {
   "cell_type": "code",
   "execution_count": null,
   "metadata": {},
   "outputs": [],
   "source": []
  }
 ],
 "metadata": {
  "kernelspec": {
   "display_name": "Python 3",
   "language": "python",
   "name": "python3"
  },
  "language_info": {
   "codemirror_mode": {
    "name": "ipython",
    "version": 3
   },
   "file_extension": ".py",
   "mimetype": "text/x-python",
   "name": "python",
   "nbconvert_exporter": "python",
   "pygments_lexer": "ipython3",
   "version": "3.7.5"
  }
 },
 "nbformat": 4,
 "nbformat_minor": 4
}
