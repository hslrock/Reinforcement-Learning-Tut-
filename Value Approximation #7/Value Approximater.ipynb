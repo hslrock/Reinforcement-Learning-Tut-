{
 "cells": [
  {
   "cell_type": "code",
   "execution_count": 163,
   "metadata": {},
   "outputs": [],
   "source": [
    "\n",
    "import numpy as np\n",
    "import matplotlib.pyplot as plt\n",
    "\n",
    "import torch\n",
    "import torch.nn as nn\n",
    "from torch.autograd import Variable\n",
    "import torch.nn.init as init\n",
    "import torch.optim as optim\n",
    "import random"
   ]
  },
  {
   "cell_type": "code",
   "execution_count": 164,
   "metadata": {},
   "outputs": [],
   "source": [
    "width,height=4,4"
   ]
  },
  {
   "cell_type": "code",
   "execution_count": 165,
   "metadata": {},
   "outputs": [],
   "source": [
    "import os,sys,inspect\n",
    "sys.path.insert(1, os.path.join(sys.path[0], '..'))"
   ]
  },
  {
   "cell_type": "code",
   "execution_count": 166,
   "metadata": {},
   "outputs": [
    {
     "name": "stdout",
     "output_type": "stream",
     "text": [
      "The autoreload extension is already loaded. To reload it, use:\n",
      "  %reload_ext autoreload\n"
     ]
    }
   ],
   "source": [
    "%load_ext autoreload\n",
    "%autoreload 2\n",
    "import env.env as env\n",
    "import numpy as np"
   ]
  },
  {
   "cell_type": "code",
   "execution_count": 167,
   "metadata": {},
   "outputs": [],
   "source": [
    "value_approximator=nn.Sequential(nn.Linear(18,4),nn.Linear(4,1))\n",
    "states = [[i, j] for i in range(4) for j in range(4)]"
   ]
  },
  {
   "cell_type": "code",
   "execution_count": 168,
   "metadata": {},
   "outputs": [],
   "source": [
    "state_tensor=torch.tensor(grid.current_state.flatten()[:]).float()"
   ]
  },
  {
   "cell_type": "code",
   "execution_count": 169,
   "metadata": {},
   "outputs": [],
   "source": [
    "loss=nn.MSELoss()"
   ]
  },
  {
   "cell_type": "code",
   "execution_count": 176,
   "metadata": {},
   "outputs": [],
   "source": [
    "optimizer = optim.SGD(value_approximator.parameters(), lr=0.001)"
   ]
  },
  {
   "cell_type": "code",
   "execution_count": 186,
   "metadata": {},
   "outputs": [],
   "source": [
    "#One Episodestartx=random.randint(0,3)\n",
    "grid=env.Grid_game(height,width)\n",
    "Counter=np.zeros((width,height))\n",
    "#starty=0\n",
    "#startx=3\n",
    "history=[]\n",
    "Returns=np.zeros((height,width))\n",
    "rewards=0\n",
    "k=0.7\n",
    "\n",
    "y,x=grid.player.curpos\n",
    "\n",
    "num_episodes=1000\n",
    "\n",
    "\n",
    "for i in range(num_episodes):\n",
    "    state_list=[]\n",
    "    starty,startx = random.choice(states[1:-1])\n",
    "    grid.set_pos(starty,startx)\n",
    "    iteration=0\n",
    "    rewards=0\n",
    " #   if num_episodes % 1000:\n",
    "      #  print(mse_loss)\n",
    "    while(not grid.state):\n",
    "        value_approximator.zero_grad()\n",
    "        \n",
    "        oldpos=grid.player.curpos[:]\n",
    "      #  oldstate=torch.tensor(oldpos).float()\n",
    "        oldstate=torch.cat([torch.tensor(grid.initial_board.flatten()).float(),torch.tensor(oldpos).float()])\n",
    "        iteration+=1\n",
    "        state,cur_state,reward,_=grid.transition()\n",
    "        curpos=grid.player.curpos[:]\n",
    "        newstate=torch.cat([torch.tensor(grid.initial_board.flatten()).float(),torch.tensor(curpos).float()])\n",
    "        Counter[curpos[0]][curpos[1]]+=1\n",
    "        \n",
    "        val_newstate=-1+k*value_approximator(newstate)\n",
    "        val_oldstate=value_approximator(oldstate)\n",
    "        \n",
    "        mse_loss=loss(val_oldstate,val_newstate)\n",
    "        mse_loss.backward()\n",
    "        optimizer.step()\n",
    "        break\n",
    "        \n",
    "    history.append(grid.vst[:].copy())\n",
    "    \n",
    "    "
   ]
  },
  {
   "cell_type": "code",
   "execution_count": 187,
   "metadata": {},
   "outputs": [],
   "source": [
    "for i in range(4):\n",
    "    for j in range(4):\n",
    "        grid.vst[i][j]=value_approximator(torch.cat([torch.tensor(grid.initial_board.flatten()).float(),torch.tensor([i,j]).float()]))"
   ]
  },
  {
   "cell_type": "code",
   "execution_count": 188,
   "metadata": {},
   "outputs": [
    {
     "data": {
      "text/plain": [
       "array([[-3.30407476, -3.32501984, -3.34596443, -3.3669095 ],\n",
       "       [-3.3206892 , -3.34163427, -3.36257887, -3.38352394],\n",
       "       [-3.33730364, -3.35824823, -3.37919331, -3.4001379 ],\n",
       "       [-3.3539176 , -3.37486267, -3.39580774, -3.41675234]])"
      ]
     },
     "execution_count": 188,
     "metadata": {},
     "output_type": "execute_result"
    }
   ],
   "source": [
    "grid.vst"
   ]
  },
  {
   "cell_type": "code",
   "execution_count": 151,
   "metadata": {},
   "outputs": [
    {
     "data": {
      "text/plain": [
       "tensor([-1.,  0.,  0.,  0.,  0.,  0.,  0.,  0.,  0.,  0.,  0.,  0.,  0.,  0.,\n",
       "         0., -1.,  3.,  4.])"
      ]
     },
     "execution_count": 151,
     "metadata": {},
     "output_type": "execute_result"
    }
   ],
   "source": [
    "torch.cat([torch.tensor(grid.initial_board.flatten()).float(),torch.tensor([3,4]).float()])"
   ]
  },
  {
   "cell_type": "code",
   "execution_count": null,
   "metadata": {},
   "outputs": [],
   "source": []
  }
 ],
 "metadata": {
  "kernelspec": {
   "display_name": "Python 3",
   "language": "python",
   "name": "python3"
  },
  "language_info": {
   "codemirror_mode": {
    "name": "ipython",
    "version": 3
   },
   "file_extension": ".py",
   "mimetype": "text/x-python",
   "name": "python",
   "nbconvert_exporter": "python",
   "pygments_lexer": "ipython3",
   "version": "3.7.6"
  }
 },
 "nbformat": 4,
 "nbformat_minor": 4
}
