{
 "cells": [
  {
   "cell_type": "code",
   "execution_count": 82,
   "metadata": {},
   "outputs": [],
   "source": [
    "\n",
    "import numpy as np\n",
    "import matplotlib.pyplot as plt\n",
    "\n",
    "import torch\n",
    "import torch.nn as nn\n",
    "from torch.autograd import Variable\n",
    "import torch.nn.init as init\n",
    "import torch.optim as optim\n",
    "import random"
   ]
  },
  {
   "cell_type": "code",
   "execution_count": 83,
   "metadata": {},
   "outputs": [],
   "source": [
    "width,height=4,4"
   ]
  },
  {
   "cell_type": "code",
   "execution_count": 84,
   "metadata": {},
   "outputs": [],
   "source": [
    "import os,sys,inspect\n",
    "sys.path.insert(1, os.path.join(sys.path[0], '..'))"
   ]
  },
  {
   "cell_type": "code",
   "execution_count": 85,
   "metadata": {},
   "outputs": [
    {
     "name": "stdout",
     "output_type": "stream",
     "text": [
      "The autoreload extension is already loaded. To reload it, use:\n",
      "  %reload_ext autoreload\n"
     ]
    }
   ],
   "source": [
    "%load_ext autoreload\n",
    "%autoreload 2\n",
    "import env.env as env\n",
    "import numpy as np"
   ]
  },
  {
   "cell_type": "code",
   "execution_count": 86,
   "metadata": {},
   "outputs": [],
   "source": [
    "value_approximator=nn.Linear(width*height,1)\n",
    "states = [[i, j] for i in range(4) for j in range(4)]"
   ]
  },
  {
   "cell_type": "code",
   "execution_count": 87,
   "metadata": {},
   "outputs": [],
   "source": [
    "state_tensor=torch.tensor(grid.current_state.flatten()[:]).float()"
   ]
  },
  {
   "cell_type": "code",
   "execution_count": 88,
   "metadata": {},
   "outputs": [],
   "source": [
    "val=value_approximator(state_tensor)\n"
   ]
  },
  {
   "cell_type": "code",
   "execution_count": 89,
   "metadata": {},
   "outputs": [],
   "source": [
    "loss=nn.MSELoss()"
   ]
  },
  {
   "cell_type": "code",
   "execution_count": 90,
   "metadata": {},
   "outputs": [],
   "source": [
    "optimizer = optim.SGD(value_approximator.parameters(), lr=0.01)"
   ]
  },
  {
   "cell_type": "code",
   "execution_count": 93,
   "metadata": {},
   "outputs": [],
   "source": [
    "#One Episodestartx=random.randint(0,3)\n",
    "grid=env.Grid_game(height,width)\n",
    "Counter=np.zeros((width,height))\n",
    "#starty=0\n",
    "#startx=3\n",
    "history=[]\n",
    "Returns=np.zeros((height,width))\n",
    "rewards=0\n",
    "k=0.8\n",
    "\n",
    "y,x=grid.player.curpos\n",
    "\n",
    "num_episodes=10000\n",
    "\n",
    "\n",
    "for i in range(num_episodes):\n",
    "    state_list=[]\n",
    "    starty,startx = random.choice(states[1:-1])\n",
    "    grid.set_pos(starty,startx)\n",
    "    iteration=0\n",
    "    rewards=0\n",
    "    if num_episodes % 1000:\n",
    "        print(mse_loss)\n",
    "    while(not grid.state):\n",
    "        value_approximator.zero_grad()\n",
    "        \n",
    "        oldpos=grid.player.curpos[:]\n",
    "        oldstate=torch.tensor(grid.current_state.flatten()[:]).float()\n",
    "        iteration+=1\n",
    "        state,cur_state,reward,_=grid.transition()\n",
    "        newstate=torch.tensor(grid.current_state.flatten()[:]).float()\n",
    "        curpos=grid.player.curpos[:]\n",
    "        Counter[curpos[0]][curpos[1]]+=1\n",
    "        \n",
    "        val_newstate=-1+k*value_approximator(newstate)\n",
    "        val_oldstate=value_approximator(oldstate)\n",
    "        \n",
    "        mse_loss=loss(val_oldstate,val_newstate)\n",
    "        mse_loss.backward()\n",
    "        optimizer.step()\n",
    "        break\n",
    "        \n",
    "    history.append(grid.vst[:].copy())\n",
    "    \n",
    "    "
   ]
  },
  {
   "cell_type": "code",
   "execution_count": 106,
   "metadata": {},
   "outputs": [],
   "source": [
    "value_approximator.zero_grad()"
   ]
  },
  {
   "cell_type": "code",
   "execution_count": 107,
   "metadata": {},
   "outputs": [
    {
     "data": {
      "text/plain": [
       "tensor([[0., 0., 0., 0., 0., 0., 0., 0., 0., 0., 0., 0., 0., 0., 0., 0.]])"
      ]
     },
     "execution_count": 107,
     "metadata": {},
     "output_type": "execute_result"
    }
   ],
   "source": [
    "value_approximator.weight.grad"
   ]
  },
  {
   "cell_type": "code",
   "execution_count": 108,
   "metadata": {},
   "outputs": [
    {
     "data": {
      "text/plain": [
       "Parameter containing:\n",
       "tensor([[ 0.2267, -0.2836, -0.2281, -0.2025, -0.1866, -0.2531, -0.2271, -0.2060,\n",
       "         -0.1395, -0.2013, -0.2653, -0.2768, -0.1904, -0.1603, -0.2781,  0.1775]],\n",
       "       requires_grad=True)"
      ]
     },
     "execution_count": 108,
     "metadata": {},
     "output_type": "execute_result"
    }
   ],
   "source": [
    "value_approximator.weight"
   ]
  },
  {
   "cell_type": "code",
   "execution_count": 109,
   "metadata": {},
   "outputs": [],
   "source": [
    "val=value_approximator(newstate)"
   ]
  },
  {
   "cell_type": "code",
   "execution_count": 110,
   "metadata": {},
   "outputs": [
    {
     "data": {
      "text/plain": [
       "tensor([[0., 0., 0., 0., 0., 0., 0., 0., 0., 0., 0., 0., 0., 0., 0., 0.]])"
      ]
     },
     "execution_count": 110,
     "metadata": {},
     "output_type": "execute_result"
    }
   ],
   "source": [
    "value_approximator.weight.grad"
   ]
  },
  {
   "cell_type": "code",
   "execution_count": 111,
   "metadata": {},
   "outputs": [],
   "source": [
    "val.backward()"
   ]
  },
  {
   "cell_type": "code",
   "execution_count": 114,
   "metadata": {},
   "outputs": [
    {
     "data": {
      "text/plain": [
       "tensor([[0., 0., 0., 0., 0., 0., 0., 0., 0., 0., 0., 0., 0., 0., 1., 0.]])"
      ]
     },
     "execution_count": 114,
     "metadata": {},
     "output_type": "execute_result"
    }
   ],
   "source": [
    "value_approximator.weight.grad"
   ]
  },
  {
   "cell_type": "code",
   "execution_count": null,
   "metadata": {},
   "outputs": [],
   "source": []
  }
 ],
 "metadata": {
  "kernelspec": {
   "display_name": "Python 3",
   "language": "python",
   "name": "python3"
  },
  "language_info": {
   "codemirror_mode": {
    "name": "ipython",
    "version": 3
   },
   "file_extension": ".py",
   "mimetype": "text/x-python",
   "name": "python",
   "nbconvert_exporter": "python",
   "pygments_lexer": "ipython3",
   "version": "3.7.6"
  }
 },
 "nbformat": 4,
 "nbformat_minor": 4
}
