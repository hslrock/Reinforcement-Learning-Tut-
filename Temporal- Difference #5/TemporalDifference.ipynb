{
 "cells": [
  {
   "cell_type": "code",
   "execution_count": 1,
   "metadata": {},
   "outputs": [],
   "source": [
    "import os,sys,inspect\n",
    "sys.path.insert(1, os.path.join(sys.path[0], '..'))"
   ]
  },
  {
   "cell_type": "code",
   "execution_count": 2,
   "metadata": {},
   "outputs": [],
   "source": [
    "%load_ext autoreload\n",
    "%autoreload 2"
   ]
  },
  {
   "cell_type": "code",
   "execution_count": 3,
   "metadata": {},
   "outputs": [],
   "source": [
    "import env.env as env\n",
    "import numpy as np"
   ]
  },
  {
   "cell_type": "code",
   "execution_count": 9,
   "metadata": {},
   "outputs": [],
   "source": [
    "import random\n",
    "height=4\n",
    "width=4"
   ]
  },
  {
   "cell_type": "code",
   "execution_count": 10,
   "metadata": {},
   "outputs": [],
   "source": [
    "states = [[i, j] for i in range(4) for j in range(4)]"
   ]
  },
  {
   "cell_type": "code",
   "execution_count": 42,
   "metadata": {},
   "outputs": [],
   "source": [
    "#One Episodestartx=random.randint(0,3)\n",
    "grid=env.Grid_game(height,width)\n",
    "Counter=np.zeros((width,height))\n",
    "#starty=0\n",
    "#startx=3\n",
    "history=[]\n",
    "Returns=np.zeros((height,width))\n",
    "rewards=0\n",
    "k=0.8\n",
    "\n",
    "y,x=grid.player.curpos\n",
    "\n",
    "num_episodes=10000\n",
    "for i in range(num_episodes):\n",
    "    state_list=[]\n",
    "    starty,startx = random.choice(states[1:-1])\n",
    "    grid.set_pos(starty,startx)\n",
    "    iteration=0\n",
    "    rewards=0\n",
    "    \n",
    "    while(not grid.state):\n",
    "        \n",
    "        oldpos=grid.player.curpos[:]\n",
    "        iteration+=1\n",
    "        state,cur_state,reward,_=grid.transition()\n",
    "        \n",
    "        \n",
    "        curpos=grid.player.curpos[:]\n",
    "        Counter[curpos[0]][curpos[1]]+=1\n",
    "        grid.vst[oldpos[0]][oldpos[1]]=grid.vst[oldpos[0]][oldpos[1]]+(1/Counter[curpos[0]][curpos[1]])*(-1+k*grid.vst[curpos[0]][curpos[1]]\n",
    "                                                                                               -grid.vst[oldpos[0]][oldpos[1]])\n",
    "        grid.vst=np.round(grid.vst,3)\n",
    "        \n",
    "    history.append(grid.vst[:].copy())\n",
    "        \n",
    "\n",
    "\n"
   ]
  },
  {
   "cell_type": "code",
   "execution_count": 43,
   "metadata": {},
   "outputs": [
    {
     "data": {
      "image/png": "[encoded data removed]",
      "text/plain": [
       "<Figure size 432x288 with 1 Axes>"
      ]
     },
     "metadata": {
      "needs_background": "light"
     },
     "output_type": "display_data"
    }
   ],
   "source": [
    "import matplotlib.pyplot as plt\n",
    "\n",
    "history=np.array(history).reshape(num_episodes,16)\n",
    "for i in range(16):\n",
    "    plt.plot(history[0:num_episodes,i]*-1)"
   ]
  },
  {
   "cell_type": "code",
   "execution_count": 44,
   "metadata": {},
   "outputs": [
    {
     "data": {
      "text/plain": [
       "array([[ 0.   , -1.954, -3.226, -3.476],\n",
       "       [-1.903, -3.153, -3.312, -3.214],\n",
       "       [-3.266, -3.387, -3.158, -1.918],\n",
       "       [-3.593, -3.264, -1.913,  0.   ]])"
      ]
     },
     "execution_count": 44,
     "metadata": {},
     "output_type": "execute_result"
    }
   ],
   "source": [
    "grid.vst"
   ]
  },
  {
   "cell_type": "code",
   "execution_count": 28,
   "metadata": {},
   "outputs": [],
   "source": [
    "\n",
    "\n",
    "grid=env.Grid_game(height,width)\n",
    "Counter=np.zeros((width,height))\n",
    "#starty=0\n",
    "#startx=3\n",
    "history=[]\n",
    "\n",
    "Returns=np.zeros((height,width))\n",
    "rewards=0\n",
    "k=0.8\n",
    "\n",
    "y,x=grid.player.curpos\n",
    "\n",
    "num_episodes=10000\n",
    "for i in range(num_episodes):\n",
    "    state_list=[]\n",
    "    action_list=[]\n",
    "    starty,startx = random.choice(states[1:-1])\n",
    "    grid.set_pos(starty,startx)\n",
    "    iteration=0\n",
    "    rewards=0\n",
    "    state_list.append(grid.player.curpos[:])\n",
    "    state,cur_state,reward,action=grid.transition()\n",
    "    action_list.append(action)  \n",
    "    state_list.append(grid.player.curpos[:])\n",
    "    while(not grid.state):\n",
    "        state,cur_state,reward,action=grid.transition()\n",
    "        action_list.append(action)\n",
    "        \n",
    "\n",
    "    state_list.reverse()   \n",
    "    G=0\n",
    "    for act,pos in zip(action_list,state_list):\n",
    "        \n",
    "        G=G*k+(grid.fix_reward_val)\n",
    "        Counter[pos[0]][pos[1]]+=1\n",
    "        grid.ast[act][pos[0]][pos[1]]=grid.ast[act][pos[0]][pos[1]]+(0.001)*(G-grid.ast[act][pos[0]][pos[1]])\n",
    "    grid.ast=np.round(grid.ast,3)\n",
    "  #  print(grid.vst)\n",
    "    \n",
    "    history.append(grid.vst[:].copy())\n",
    "        "
   ]
  },
  {
   "cell_type": "code",
   "execution_count": 29,
   "metadata": {},
   "outputs": [
    {
     "data": {
      "text/plain": [
       "array([[[-0.162, -0.514, -0.529, -0.562],\n",
       "        [-0.433, -0.457, -0.447, -0.457],\n",
       "        [-0.436, -0.421, -0.45 , -0.272],\n",
       "        [-0.33 , -0.327, -0.248,  0.   ]],\n",
       "\n",
       "       [[ 0.   , -0.266, -0.359, -0.356],\n",
       "        [-0.268, -0.481, -0.449, -0.46 ],\n",
       "        [-0.451, -0.481, -0.44 , -0.396],\n",
       "        [-0.538, -0.532, -0.528, -0.169]],\n",
       "\n",
       "       [[ 0.   , -0.302, -0.493, -0.563],\n",
       "        [-0.236, -0.47 , -0.466, -0.543],\n",
       "        [-0.344, -0.427, -0.457, -0.508],\n",
       "        [-0.329, -0.481, -0.4  , -0.154]],\n",
       "\n",
       "       [[-0.199, -0.426, -0.477, -0.338],\n",
       "        [-0.506, -0.445, -0.446, -0.352],\n",
       "        [-0.549, -0.465, -0.462, -0.228],\n",
       "        [-0.532, -0.448, -0.234,  0.   ]]])"
      ]
     },
     "execution_count": 29,
     "metadata": {},
     "output_type": "execute_result"
    }
   ],
   "source": [
    "grid.ast"
   ]
  },
  {
   "cell_type": "code",
   "execution_count": null,
   "metadata": {},
   "outputs": [],
   "source": []
  }
 ],
 "metadata": {
  "kernelspec": {
   "display_name": "Python 3",
   "language": "python",
   "name": "python3"
  },
  "language_info": {
   "codemirror_mode": {
    "name": "ipython",
    "version": 3
   },
   "file_extension": ".py",
   "mimetype": "text/x-python",
   "name": "python",
   "nbconvert_exporter": "python",
   "pygments_lexer": "ipython3",
   "version": "3.7.6"
  }
 },
 "nbformat": 4,
 "nbformat_minor": 4
}
