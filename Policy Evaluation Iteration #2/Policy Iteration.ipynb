{
 "cells": [
  {
   "cell_type": "markdown",
   "metadata": {},
   "source": [
    "![alt text](../img/PolicyIteration.png \"Title\")\n",
    "\n",
    "\n",
    "# Bellman's expectation backup"
   ]
  },
  {
   "cell_type": "code",
   "execution_count": 130,
   "metadata": {},
   "outputs": [
    {
     "name": "stdout",
     "output_type": "stream",
     "text": [
      "The autoreload extension is already loaded. To reload it, use:\n",
      "  %reload_ext autoreload\n"
     ]
    }
   ],
   "source": [
    "%load_ext autoreload\n",
    "%autoreload 2"
   ]
  },
  {
   "cell_type": "code",
   "execution_count": 131,
   "metadata": {},
   "outputs": [],
   "source": [
    "import os,sys,inspect\n",
    "sys.path.insert(1, os.path.join(sys.path[0], '..'))"
   ]
  },
  {
   "cell_type": "code",
   "execution_count": 132,
   "metadata": {},
   "outputs": [],
   "source": [
    "import env.env as env\n",
    "import numpy as np"
   ]
  },
  {
   "cell_type": "code",
   "execution_count": 133,
   "metadata": {},
   "outputs": [
    {
     "name": "stdout",
     "output_type": "stream",
     "text": [
      "[0, 0]\n",
      "[3, 3]\n"
     ]
    }
   ],
   "source": [
    "grid=env.Grid_game(4,4)"
   ]
  },
  {
   "cell_type": "code",
   "execution_count": 134,
   "metadata": {},
   "outputs": [],
   "source": [
    "def single_state_update(y,x,grid,num_actions=4):\n",
    "    summation=0\n",
    "    for action_index,policy_as in enumerate(grid.policy[0:num_actions,y,x]):\n",
    "        grid.set_pos(y,x)\n",
    "        s_1=grid.transition(force=True,action=action_index)[1]\n",
    "\n",
    "        summation+=policy_as*(grid.fix_reward_val+grid.vst[s_1[0]][s_1[1]])\n",
    "    return summation    \n",
    "    "
   ]
  },
  {
   "cell_type": "code",
   "execution_count": 135,
   "metadata": {},
   "outputs": [
    {
     "name": "stdout",
     "output_type": "stream",
     "text": [
      "[[ 0.         -4.734375   -6.27734375 -6.65527344]\n",
      " [-4.734375   -5.89941406 -6.36425781 -6.27734375]\n",
      " [-6.27734375 -6.36425781 -5.89941406 -4.734375  ]\n",
      " [-6.65527344 -6.27734375 -4.734375    0.        ]]\n"
     ]
    }
   ],
   "source": [
    "for k in range(7):\n",
    "    #print(grid.vst)\n",
    "    values=np.empty_like(grid.vst)\n",
    "    for y in range(4):\n",
    "        for x in range(4):\n",
    "            values[y,x]=single_state_update(y,x,grid)\n",
    "    grid.vst=values\n",
    "print(grid.vst)"
   ]
  },
  {
   "cell_type": "code",
   "execution_count": null,
   "metadata": {},
   "outputs": [],
   "source": []
  },
  {
   "cell_type": "markdown",
   "metadata": {},
   "source": [
    "![alt text](../img/ValueIteration.png \"Title\")\n",
    "\n"
   ]
  },
  {
   "cell_type": "code",
   "execution_count": 136,
   "metadata": {},
   "outputs": [
    {
     "name": "stdout",
     "output_type": "stream",
     "text": [
      "[0, 0]\n",
      "[3, 3]\n"
     ]
    }
   ],
   "source": [
    "grid=env.Grid_game(6,6,TERMIN_STATE_POS =[[0,0],[3,3]])"
   ]
  },
  {
   "cell_type": "code",
   "execution_count": 137,
   "metadata": {},
   "outputs": [],
   "source": [
    "def single_state_update_value(y,x,grid,num_actions=4):\n",
    "    value_list=[]\n",
    "    for action_index,policy_as in enumerate(grid.policy[0:num_actions,y,x]):\n",
    "        grid.set_pos(y,x)\n",
    "        s_1=grid.transition(force=True,action=action_index)[1]\n",
    "        value_list.append((grid.fix_reward_val+grid.vst[s_1[0]][s_1[1]]))\n",
    "    return max(value_list)\n",
    "    "
   ]
  },
  {
   "cell_type": "code",
   "execution_count": 138,
   "metadata": {},
   "outputs": [
    {
     "name": "stdout",
     "output_type": "stream",
     "text": [
      "[[ 0. -1. -2. -3. -4. -5.]\n",
      " [-1. -2. -3. -2. -3. -4.]\n",
      " [-2. -3. -2. -1. -2. -3.]\n",
      " [-3. -2. -1.  0. -1. -2.]\n",
      " [-4. -3. -2. -1. -2. -3.]\n",
      " [-5. -4. -3. -2. -3. -4.]]\n"
     ]
    }
   ],
   "source": [
    "for k in range(100):\n",
    "    #\n",
    "    values=np.empty_like(grid.vst)\n",
    "    for y in range(6):\n",
    "        for x in range(6):\n",
    "            values[y,x]=single_state_update_value(y,x,grid)\n",
    "    grid.vst=values\n",
    "    for i in grid.TERMINAL_STATE_POS:\n",
    "        grid.vst[i[0]][i[1]]=0\n",
    "    \n",
    "print(grid.vst)    "
   ]
  },
  {
   "cell_type": "code",
   "execution_count": null,
   "metadata": {},
   "outputs": [],
   "source": []
  },
  {
   "cell_type": "code",
   "execution_count": null,
   "metadata": {},
   "outputs": [],
   "source": []
  }
 ],
 "metadata": {
  "kernelspec": {
   "display_name": "Python 3",
   "language": "python",
   "name": "python3"
  },
  "language_info": {
   "codemirror_mode": {
    "name": "ipython",
    "version": 3
   },
   "file_extension": ".py",
   "mimetype": "text/x-python",
   "name": "python",
   "nbconvert_exporter": "python",
   "pygments_lexer": "ipython3",
   "version": "3.7.6"
  }
 },
 "nbformat": 4,
 "nbformat_minor": 4
}
