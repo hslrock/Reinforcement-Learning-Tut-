{
 "cells": [
  {
   "cell_type": "code",
   "execution_count": 193,
   "metadata": {},
   "outputs": [],
   "source": [
    "import os,sys,inspect\n",
    "sys.path.insert(1, os.path.join(sys.path[0], '..'))\n",
    "import random"
   ]
  },
  {
   "cell_type": "code",
   "execution_count": 194,
   "metadata": {},
   "outputs": [
    {
     "name": "stdout",
     "output_type": "stream",
     "text": [
      "The autoreload extension is already loaded. To reload it, use:\n",
      "  %reload_ext autoreload\n"
     ]
    }
   ],
   "source": [
    "%load_ext autoreload\n",
    "%autoreload 2"
   ]
  },
  {
   "cell_type": "code",
   "execution_count": 195,
   "metadata": {},
   "outputs": [],
   "source": [
    "import env.env as env\n",
    "import numpy as np"
   ]
  },
  {
   "cell_type": "code",
   "execution_count": 196,
   "metadata": {},
   "outputs": [],
   "source": [
    "height,width=4,4"
   ]
  },
  {
   "cell_type": "code",
   "execution_count": 197,
   "metadata": {},
   "outputs": [],
   "source": [
    "grid=env.Grid_game(height,width)\n",
    "\n",
    "from utils.function import set_mu_policy\n",
    "    "
   ]
  },
  {
   "cell_type": "code",
   "execution_count": 198,
   "metadata": {},
   "outputs": [],
   "source": [
    "behavior_policy=set_mu_policy(grid)"
   ]
  },
  {
   "cell_type": "code",
   "execution_count": 199,
   "metadata": {},
   "outputs": [],
   "source": [
    "states = [[i, j] for i in range(4) for j in range(4)]"
   ]
  },
  {
   "cell_type": "code",
   "execution_count": 200,
   "metadata": {},
   "outputs": [],
   "source": [
    "grid=env.Grid_game(height,width)\n",
    "Counter=np.zeros((width,height))\n",
    "#starty=0\n",
    "#startx=3\n",
    "history=[]\n",
    "\n",
    "Returns=np.zeros((height,width))\n",
    "rewards=0\n",
    "k=0.8\n",
    "alpha=0.001\n",
    "epislon_counter=0\n",
    "y,x=grid.player.curpos\n",
    "\n",
    "num_episodes=10000\n",
    "for i in range(num_episodes):\n",
    "    counter=0\n",
    "    state_list=[]\n",
    "    action_list=[]\n",
    "    starty,startx = random.choice(states[1:-1])\n",
    "    grid.set_pos(starty,startx)\n",
    "    iteration=0\n",
    "    rewards=0\n",
    "    state_list.append(grid.player.curpos[:])\n",
    "    while(not grid.state):\n",
    "        oldpos=grid.player.curpos[:]\n",
    "        iteration+=1\n",
    "    \n",
    "        pos_action_list = np.argwhere(behavior_policy[0:4,oldpos[0],oldpos[1]] == np.amax(behavior_policy[0:4,oldpos[0],oldpos[1]])).tolist()\n",
    "        action_index=random.choice(pos_action_list)[0]\n",
    "        \n",
    "        pos_target_list = np.argwhere(grid.ast[0:4,oldpos[0],oldpos[1]] == np.amax(grid.ast[0:4,oldpos[0],oldpos[1]])).tolist()\n",
    "        target_policy=random.choice(pos_target_list)[0]\n",
    "        \n",
    "        if np.random.rand() <0.01:\n",
    "            epislon_counter+=1\n",
    "            action_index=np.random.randint(0,4)\n",
    "        state,cur_state,reward,action=grid.transition(action_index)\n",
    "        action=int(action)\n",
    "        curpos=grid.player.curpos[:]\n",
    "        Counter[curpos[0]][curpos[1]]+=1\n",
    "        grid.ast[action][oldpos[0]][oldpos[1]]=grid.ast[action][oldpos[0]][oldpos[1]]+\\\n",
    "                                                alpha*((-1+k*np.max(grid.ast[0:4,curpos[0],curpos[1]]))-grid.ast[action][oldpos[0]][oldpos[1]])\n",
    "        grid.ast=np.round(grid.ast,3)\n",
    "        counter +=1\n",
    "\n",
    "\n",
    "    history.append(grid.vst[:].copy())\n",
    "        "
   ]
  },
  {
   "cell_type": "code",
   "execution_count": 201,
   "metadata": {},
   "outputs": [
    {
     "data": {
      "text/plain": [
       "array([[[-1.   , -1.003, -1.003, -1.   ],\n",
       "        [-1.3  , -1.003, -1.181, -1.007],\n",
       "        [-1.306, -1.302, -1.007, -1.011],\n",
       "        [-1.302, -1.016, -1.306, -1.   ]],\n",
       "\n",
       "       [[-1.   , -1.008, -1.003, -1.301],\n",
       "        [-1.011, -1.542, -1.183, -1.309],\n",
       "        [-1.003, -1.312, -1.323, -1.3  ],\n",
       "        [-1.006, -1.014, -1.028, -1.   ]],\n",
       "\n",
       "       [[-1.   , -1.003, -1.002, -1.001],\n",
       "        [-1.007, -1.002, -1.195, -1.003],\n",
       "        [-1.002, -1.306, -1.309, -1.012],\n",
       "        [-1.312, -1.323, -1.03 , -1.   ]],\n",
       "\n",
       "       [[-1.   , -1.3  , -1.303, -1.302],\n",
       "        [-1.008, -1.306, -1.165, -1.001],\n",
       "        [-1.002, -1.302, -1.012, -1.017],\n",
       "        [-1.002, -1.014, -1.312, -1.   ]]])"
      ]
     },
     "execution_count": 201,
     "metadata": {},
     "output_type": "execute_result"
    }
   ],
   "source": [
    "grid.ast"
   ]
  },
  {
   "cell_type": "code",
   "execution_count": 202,
   "metadata": {},
   "outputs": [
    {
     "name": "stdout",
     "output_type": "stream",
     "text": [
      "1\n"
     ]
    }
   ],
   "source": [
    "y=1\n",
    "x=3\n",
    "pos_action_list = np.argwhere(behavior_policy[0:4,y,x] == np.amax(behavior_policy[0:4,y,x])).tolist()\n",
    "action_index=random.choice(pos_action_list)[0]\n",
    "print(action_index)"
   ]
  },
  {
   "cell_type": "code",
   "execution_count": 203,
   "metadata": {},
   "outputs": [
    {
     "name": "stdout",
     "output_type": "stream",
     "text": [
      "2\n"
     ]
    }
   ],
   "source": [
    "y=1\n",
    "x=1\n",
    "pos_action_list = np.argwhere(grid.ast[0:4,y,x] == np.amax(grid.ast[0:4,y,x])).tolist()\n",
    "action_index=random.choice(pos_action_list)[0]\n",
    "print(action_index)"
   ]
  },
  {
   "cell_type": "code",
   "execution_count": 207,
   "metadata": {},
   "outputs": [
    {
     "data": {
      "text/plain": [
       "array([[[0.5 , 0.  , 0.  , 0.  ],\n",
       "        [1.  , 0.  , 0.25, 0.  ],\n",
       "        [1.  , 0.25, 0.  , 0.  ],\n",
       "        [0.5 , 0.  , 0.5 , 0.  ]],\n",
       "\n",
       "       [[0.  , 0.  , 0.  , 0.5 ],\n",
       "        [0.  , 0.5 , 0.25, 1.  ],\n",
       "        [0.  , 0.25, 0.5 , 1.  ],\n",
       "        [0.  , 0.  , 0.  , 0.5 ]],\n",
       "\n",
       "       [[0.  , 0.  , 0.  , 0.  ],\n",
       "        [0.  , 0.  , 0.25, 0.  ],\n",
       "        [0.  , 0.25, 0.5 , 0.  ],\n",
       "        [0.5 , 1.  , 0.  , 0.5 ]],\n",
       "\n",
       "       [[0.5 , 1.  , 1.  , 0.5 ],\n",
       "        [0.  , 0.5 , 0.25, 0.  ],\n",
       "        [0.  , 0.25, 0.  , 0.  ],\n",
       "        [0.  , 0.  , 0.5 , 0.  ]]])"
      ]
     },
     "execution_count": 207,
     "metadata": {},
     "output_type": "execute_result"
    }
   ],
   "source": [
    "behavior_policy"
   ]
  },
  {
   "cell_type": "code",
   "execution_count": 208,
   "metadata": {},
   "outputs": [
    {
     "data": {
      "text/plain": [
       "array([[0., 0., 0., 0.],\n",
       "       [0., 0., 0., 0.],\n",
       "       [0., 0., 0., 0.],\n",
       "       [0., 0., 0., 1.]])"
      ]
     },
     "execution_count": 208,
     "metadata": {},
     "output_type": "execute_result"
    }
   ],
   "source": [
    "grid.current_state"
   ]
  },
  {
   "cell_type": "code",
   "execution_count": 209,
   "metadata": {},
   "outputs": [],
   "source": [
    "grid=env.Grid_game(height,width)\n"
   ]
  },
  {
   "cell_type": "code",
   "execution_count": 210,
   "metadata": {},
   "outputs": [
    {
     "data": {
      "text/plain": [
       "array([[-1.,  0.,  0.,  0.],\n",
       "       [ 0.,  0.,  0.,  0.],\n",
       "       [ 1.,  0.,  0.,  0.],\n",
       "       [ 0.,  0.,  0., -1.]])"
      ]
     },
     "execution_count": 210,
     "metadata": {},
     "output_type": "execute_result"
    }
   ],
   "source": [
    "grid.current_state"
   ]
  },
  {
   "cell_type": "code",
   "execution_count": null,
   "metadata": {},
   "outputs": [],
   "source": [
    "class value_approximate"
   ]
  }
 ],
 "metadata": {
  "kernelspec": {
   "display_name": "Python 3",
   "language": "python",
   "name": "python3"
  },
  "language_info": {
   "codemirror_mode": {
    "name": "ipython",
    "version": 3
   },
   "file_extension": ".py",
   "mimetype": "text/x-python",
   "name": "python",
   "nbconvert_exporter": "python",
   "pygments_lexer": "ipython3",
   "version": "3.7.6"
  }
 },
 "nbformat": 4,
 "nbformat_minor": 4
}
