{
 "cells": [
  {
   "cell_type": "markdown",
   "metadata": {},
   "source": [
    "![alt text](img/env_setting.png \"Title\")\n",
    "\n",
    "\n",
    "# We set a environment setting based on the image\n"
   ]
  },
  {
   "cell_type": "code",
   "execution_count": 33,
   "metadata": {},
   "outputs": [],
   "source": [
    "import numpy as np\n",
    "import random\n",
    "class Grid_game(object):\n",
    "    def __init__(self,grid_x,grid_y,initial_pos=[2,0],TERMIN_STATE_POS =[[0,0],[3,3]]):\n",
    "        \n",
    "        self.initial_pos=initial_pos\n",
    "        self.TERMINAL_STATE_POS=TERMIN_STATE_POS\n",
    "        self.grid_x=grid_x\n",
    "        self.grid_y=grid_y\n",
    "        \n",
    "        self.reset()\n",
    "        \n",
    "        \n",
    "        self.policy=np.zeros((4,grid_x,grid_y))+0.25\n",
    "        for i in self.TERMINAL_STATE_POS:\n",
    "            self.current_state[i[0]][i[1]]=-1\n",
    "            self.policy[0:4,i[0],i[1]]=0\n",
    "            \n",
    "        self.vst=np.zeros((grid_x,grid_y))   #Action State Value\n",
    "        \n",
    "        self.ast=np.zeros((4,grid_x,grid_y))\n",
    "        \n",
    "        self.fix_reward_val=-1\n",
    "        \n",
    "        class Agent(object):\n",
    "            def __init__(self,initial_pos,max_grid=grid_x):\n",
    "                self.oldpos=initial_pos[:]\n",
    "                self.curpos=initial_pos[:]\n",
    "                self.max_grid=max_grid\n",
    "            def north(self):\n",
    "                self.curpos[0]-=1\n",
    "            def south(self):\n",
    "                self.curpos[0]+=1\n",
    "            def east(self):\n",
    "                self.curpos[1]+=1\n",
    "            def west(self):\n",
    "                self.curpos[1]-=1\n",
    "                \n",
    "        self.grid_x=grid_x\n",
    "        self.grid_y=grid_y\n",
    "        self.player=Agent(self.initial_pos)        \n",
    "        self.update_state()\n",
    "        self.state=False\n",
    "    def reset(self):\n",
    "        self.current_state=np.zeros((self.grid_x,self.grid_y))\n",
    "        \n",
    "    def update_state(self):\n",
    "        self.reset()\n",
    "        self.current_state[self.player.curpos[0]][self.player.curpos[1]]=1\n",
    "    def set_pos(self,y,x,*args):\n",
    "        self.player.curpos=[y,x]\n",
    "        self.update_state()\n",
    "        self.state=self.end_condition()\n",
    "    def check_valid(self):\n",
    "        if self.player.curpos[0]==self.grid_y:\n",
    "            self.player.curpos[0]=self.grid_y-1\n",
    "        if self.player.curpos[0]==-1:\n",
    "            self.player.curpos[0]=0\n",
    "        if self.player.curpos[1]==self.grid_x:\n",
    "            self.player.curpos[1]=self.grid_x-1\n",
    "        if self.player.curpos[1]==-1:\n",
    "            self.player.curpos[1]=0\n",
    "    def end_condition(self):\n",
    "        for state_pos in self.TERMINAL_STATE_POS:\n",
    "            if self.player.curpos== state_pos:\n",
    "                return True\n",
    "        return False\n",
    "    def transition(self,action=None):\n",
    "\n",
    "        move = {  0: self.player.north,\n",
    "                          1: self.player.south,\n",
    "                        2:self.player.east,\n",
    "                        3:self.player.west}\n",
    "        if action==None:\n",
    "\n",
    "            y,x=self.player.curpos\n",
    "            action_index=np.random.choice(4, p=self.policy[0:4,y,x])\n",
    "            self.player.oldpos=self.player.curpos\n",
    "            move[action_index]()\n",
    "            action=action_index\n",
    "        else:\n",
    "            move[action]()\n",
    "        self.check_valid()\n",
    "        self.update_state()\n",
    "        self.state=self.end_condition()\n",
    "        return self.state,self.player.curpos,self.fix_reward_val,action\n",
    "            \n",
    "        \n",
    "    def get_asv():\n",
    "        return self.ast\n",
    "    def get_vst():\n",
    "        return self.vst"
   ]
  },
  {
   "cell_type": "code",
   "execution_count": 34,
   "metadata": {},
   "outputs": [],
   "source": [
    "width,height=4,4"
   ]
  },
  {
   "cell_type": "code",
   "execution_count": 35,
   "metadata": {},
   "outputs": [],
   "source": [
    "grid=Grid_game(width,height)"
   ]
  },
  {
   "cell_type": "code",
   "execution_count": 36,
   "metadata": {},
   "outputs": [
    {
     "data": {
      "text/plain": [
       "array([[[0., 0., 0., 0.],\n",
       "        [0., 0., 0., 0.],\n",
       "        [0., 0., 0., 0.],\n",
       "        [0., 0., 0., 0.]],\n",
       "\n",
       "       [[0., 0., 0., 0.],\n",
       "        [0., 0., 0., 0.],\n",
       "        [0., 0., 0., 0.],\n",
       "        [0., 0., 0., 0.]],\n",
       "\n",
       "       [[0., 0., 0., 0.],\n",
       "        [0., 0., 0., 0.],\n",
       "        [0., 0., 0., 0.],\n",
       "        [0., 0., 0., 0.]],\n",
       "\n",
       "       [[0., 0., 0., 0.],\n",
       "        [0., 0., 0., 0.],\n",
       "        [0., 0., 0., 0.],\n",
       "        [0., 0., 0., 0.]]])"
      ]
     },
     "execution_count": 36,
     "metadata": {},
     "output_type": "execute_result"
    }
   ],
   "source": [
    "grid.ast"
   ]
  },
  {
   "cell_type": "code",
   "execution_count": 88,
   "metadata": {},
   "outputs": [
    {
     "name": "stdout",
     "output_type": "stream",
     "text": [
      "[0.25 0.25 0.25 0.25]\n"
     ]
    },
    {
     "data": {
      "image/png": "[encoded data removed]",
      "text/plain": [
       "<Figure size 288x288 with 16 Axes>"
      ]
     },
     "metadata": {},
     "output_type": "display_data"
    }
   ],
   "source": [
    "\n",
    "def softmax(x):\n",
    "    e_x = np.exp(x - np.max(x))\n",
    "    return e_x / e_x.sum()\n",
    "\n",
    "\n",
    "\n",
    "\n",
    "\n",
    "\n",
    "\n",
    "##Measure vst strength:\n",
    "arrowdir = {  0: np.array((0,1.0)),\n",
    "                          1: np.array((0,-1.0)),\n",
    "                        2: np.array((1,0)),\n",
    "                        3: np.array((-1,0))}\n",
    "\n",
    "plt.figure(figsize=(4, 4))\n",
    "axes=0\n",
    "for y in range(height):\n",
    "    for x in range(width):\n",
    "        axes+=1\n",
    "        value=[]\n",
    "        for i in range(num_action):\n",
    "                    \n",
    "            \n",
    "            grid.set_pos(y,x)\n",
    "            _,pos,_,_=grid.transition(i)\n",
    "            value.append((grid.vst[pos[0],pos[1]]))\n",
    "        value=softmax(value)\n",
    "        \n",
    "        plt.subplot(height, width, axes)\n",
    "        plt.xticks([])\n",
    "        plt.yticks([])\n",
    "        max_val=np.max(value)\n",
    "        \n",
    "        plt.xlim([-max_val-0.2, max_val+0.2])\n",
    "        plt.ylim([-max_val-0.2, max_val+0.2])\n",
    "        for i in range(4):\n",
    "            magnitude=arrowdir[i]*value[i]\n",
    "            plt.arrow(0,0,magnitude[0],magnitude[1],head_width=0.1)\n",
    "        \n",
    "plt.tight_layout(0)\n",
    "plt.show()\n",
    "\n",
    "\n",
    "\n"
   ]
  },
  {
   "cell_type": "code",
   "execution_count": 93,
   "metadata": {},
   "outputs": [
    {
     "data": {
      "image/png": "[encoded data removed]",
      "text/plain": [
       "<Figure size 288x288 with 16 Axes>"
      ]
     },
     "metadata": {},
     "output_type": "display_data"
    }
   ],
   "source": [
    "plt.figure(figsize=(4, 4))\n",
    "axes=0\n",
    "for y in range(height):\n",
    "    for x in range(width):\n",
    "        axes+=1\n",
    "        value=[]\n",
    "        for i in range(num_action):\n",
    "                    \n",
    "            \n",
    "            grid.set_pos(y,x)\n",
    "            value.append((grid.ast[0][pos[0]][pos[1]]))\n",
    "        value=softmax(value)\n",
    "        plt.subplot(height, width, axes)\n",
    "        plt.xticks([])\n",
    "        plt.yticks([])\n",
    "        max_val=np.max(value)\n",
    "        \n",
    "        plt.xlim([-max_val-0.2, max_val+0.2])\n",
    "        plt.ylim([-max_val-0.2, max_val+0.2])\n",
    "        for i in range(4):\n",
    "            magnitude=arrowdir[i]*value[i]\n",
    "            plt.arrow(0,0,magnitude[0],magnitude[1],head_width=0.1)\n",
    "        \n",
    "plt.tight_layout(0)\n",
    "plt.show()"
   ]
  },
  {
   "cell_type": "code",
   "execution_count": 6,
   "metadata": {},
   "outputs": [],
   "source": [
    "\n",
    "def drawarrow(origin_pos,action):\n",
    "    \n",
    "    return None\n",
    "\n",
    "\n",
    "#Set Arrow by VST\n",
    "\n",
    "\n",
    "\n",
    "#Set Arrow by AST"
   ]
  },
  {
   "cell_type": "code",
   "execution_count": null,
   "metadata": {},
   "outputs": [],
   "source": []
  }
 ],
 "metadata": {
  "kernelspec": {
   "display_name": "Python 3",
   "language": "python",
   "name": "python3"
  },
  "language_info": {
   "codemirror_mode": {
    "name": "ipython",
    "version": 3
   },
   "file_extension": ".py",
   "mimetype": "text/x-python",
   "name": "python",
   "nbconvert_exporter": "python",
   "pygments_lexer": "ipython3",
   "version": "3.7.5"
  }
 },
 "nbformat": 4,
 "nbformat_minor": 4
}
