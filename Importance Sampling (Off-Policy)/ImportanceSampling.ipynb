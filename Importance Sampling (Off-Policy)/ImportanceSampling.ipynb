{
 "cells": [
  {
   "cell_type": "code",
   "execution_count": 90,
   "metadata": {},
   "outputs": [],
   "source": [
    "import os,sys,inspect\n",
    "sys.path.insert(1, os.path.join(sys.path[0], '..'))\n",
    "import random"
   ]
  },
  {
   "cell_type": "code",
   "execution_count": 91,
   "metadata": {},
   "outputs": [
    {
     "name": "stdout",
     "output_type": "stream",
     "text": [
      "The autoreload extension is already loaded. To reload it, use:\n",
      "  %reload_ext autoreload\n"
     ]
    }
   ],
   "source": [
    "%load_ext autoreload\n",
    "%autoreload 2"
   ]
  },
  {
   "cell_type": "code",
   "execution_count": 103,
   "metadata": {},
   "outputs": [],
   "source": [
    "import env.env as env\n",
    "import numpy as np"
   ]
  },
  {
   "cell_type": "code",
   "execution_count": 104,
   "metadata": {},
   "outputs": [],
   "source": [
    "height,width=4,4"
   ]
  },
  {
   "cell_type": "code",
   "execution_count": 105,
   "metadata": {},
   "outputs": [],
   "source": [
    "grid=env.Grid_game(height,width)\n",
    "\n",
    "\n",
    "    "
   ]
  },
  {
   "cell_type": "code",
   "execution_count": 119,
   "metadata": {},
   "outputs": [],
   "source": [
    "def set_mu_policy(grid):\n",
    "    policy_mu=grid.policy.copy()\n",
    "\n",
    "    mid_hpoint=(policy_mu.shape[1]-1)/2\n",
    "    mid_wpoint=(policy_mu.shape[2]-1)/2\n",
    "    for i in range(policy_mu.shape[1]):\n",
    "        for j in range(policy_mu.shape[2]):\n",
    "\n",
    "            if j < mid_wpoint:\n",
    "                if i < mid_hpoint:\n",
    "                    policy_mu[0:4,i,j]=0.0,0.5,0.0,0.5\n",
    "                elif i == mid_hpoint:\n",
    "                    policy_mu[0:4,i,j]=0.0,0.5,0.0,0.5\n",
    "                elif i > mid_hpoint:\n",
    "                    policy_mu[0:4,i,j]=0.25,0.25,0.25,0.25\n",
    "                if i==0:\n",
    "                    policy_mu[0:4,i,j]=0.0,0.0,0.0,1.0\n",
    "                elif i==policy_mu.shape[1]-1:\n",
    "                    policy_mu[0:4,i,j]=0.0,0.0,1.0,0.0\n",
    "\n",
    "            elif j == mid_wpoint:\n",
    "\n",
    "                if i < mid_hpoint:\n",
    "                    policy_mu[0:4,i,j]=0.5,0.0,0.0,0.5\n",
    "                elif i == mid_hpoint:\n",
    "                    policy_mu[0:4,i,j]=0.25,0.25,0.25,0.25\n",
    "                elif i > mid_hpoint:\n",
    "                    policy_mu[0:4,i,j]=0.0,0.5,0.5,0.0\n",
    "                if i==0:\n",
    "                    policy_mu[0:4,i,j]=0.0,0.0,0.0,1.0\n",
    "                elif i==policy_mu.shape[1]-1:\n",
    "                    policy_mu[0:4,i,j]=0.0,0.0,1.0,0.0\n",
    "            elif j > mid_wpoint :\n",
    "\n",
    "                if i < mid_hpoint:\n",
    "                    policy_mu[0:4,i,j]=0.25,0.25,0.25,0.25\n",
    "                elif i == mid_hpoint:\n",
    "                    policy_mu[0:4,i,j]=0.0,0.5,0.5,0.0\n",
    "                elif i > mid_hpoint:\n",
    "                    policy_mu[0:4,i,j]=0.0,0.5,0.5,0.0\n",
    "                if i==0:\n",
    "                    policy_mu[0:4,i,j]=0.0,0.0,0.0,1.0\n",
    "                elif i==policy_mu.shape[1]-1:\n",
    "                    policy_mu[0:4,i,j]=0.5,0.0,0.0,0.5\n",
    "            if j==0:\n",
    "\n",
    "                if i < mid_hpoint:\n",
    "                    policy_mu[0:4,i,j]=1.0,0.0,0.0,0.0\n",
    "                elif i == mid_hpoint:\n",
    "                    policy_mu[0:4,i,j]=1.0,0.0,0.0,0.0\n",
    "                elif i > mid_hpoint:\n",
    "                    policy_mu[0:4,i,j]=1.0,0.0,0.0,0.0\n",
    "                if i==0:\n",
    "                    policy_mu[0:4,i,j]=0.5,0.0,0.0,0.5\n",
    "                elif i==policy_mu.shape[1]-1:\n",
    "                    policy_mu[0:4,i,j]=0.5,0.0,0.5,0.0\n",
    "\n",
    "            elif j==policy_mu.shape[2]-1:\n",
    "\n",
    "                if i < mid_hpoint:\n",
    "                    policy_mu[0:4,i,j]=0.0,1.0,0.0,0.0\n",
    "                elif i == mid_hpoint:\n",
    "                    policy_mu[0:4,i,j]=0.0,1.0,0.0,0.0\n",
    "                elif i > mid_hpoint:\n",
    "                    policy_mu[0:4,i,j]=0.0,1.0,0.0,0.0\n",
    "                if i==0:\n",
    "                    policy_mu[0:4,i,j]=0.0,0.5,0.0,0.5\n",
    "                elif i==policy_mu.shape[1]-1:\n",
    "                    policy_mu[0:4,i,j]=0.0,0.5,0.5,0.0\n",
    "    return policy_mu\n"
   ]
  },
  {
   "cell_type": "code",
   "execution_count": 184,
   "metadata": {},
   "outputs": [],
   "source": [
    "mu_policy_mat=set_mu_policy(grid)"
   ]
  },
  {
   "cell_type": "code",
   "execution_count": 185,
   "metadata": {},
   "outputs": [
    {
     "data": {
      "text/plain": [
       "array([[[0.5 , 0.  , 0.  , 0.  ],\n",
       "        [1.  , 0.  , 0.25, 0.  ],\n",
       "        [1.  , 0.25, 0.  , 0.  ],\n",
       "        [0.5 , 0.  , 0.5 , 0.  ]],\n",
       "\n",
       "       [[0.  , 0.  , 0.  , 0.5 ],\n",
       "        [0.  , 0.5 , 0.25, 1.  ],\n",
       "        [0.  , 0.25, 0.5 , 1.  ],\n",
       "        [0.  , 0.  , 0.  , 0.5 ]],\n",
       "\n",
       "       [[0.  , 0.  , 0.  , 0.  ],\n",
       "        [0.  , 0.  , 0.25, 0.  ],\n",
       "        [0.  , 0.25, 0.5 , 0.  ],\n",
       "        [0.5 , 1.  , 0.  , 0.5 ]],\n",
       "\n",
       "       [[0.5 , 1.  , 1.  , 0.5 ],\n",
       "        [0.  , 0.5 , 0.25, 0.  ],\n",
       "        [0.  , 0.25, 0.  , 0.  ],\n",
       "        [0.  , 0.  , 0.5 , 0.  ]]])"
      ]
     },
     "execution_count": 185,
     "metadata": {},
     "output_type": "execute_result"
    }
   ],
   "source": [
    "mu_policy_mat"
   ]
  },
  {
   "cell_type": "code",
   "execution_count": 293,
   "metadata": {},
   "outputs": [],
   "source": [
    "states = [[i, j] for i in range(4) for j in range(4)]\n",
    "\n",
    "#One Episodestartx=random.randint(0,3)\n",
    "grid=env.Grid_game(height,width)\n",
    "Counter=np.zeros((width,height))\n",
    "#starty=0\n",
    "#startx=3\n",
    "history=[]\n",
    "Returns=np.zeros((height,width))\n",
    "rewards=0\n",
    "k=0.8\n",
    "\n",
    "\n",
    "\n",
    "num_episodes=10000\n",
    "for i in range(num_episodes):\n",
    "    state_list=[]\n",
    "    starty,startx = random.choice(states[1:-1])\n",
    "    \n",
    "    grid.set_pos(starty,startx)\n",
    "    \n",
    "    iteration=0\n",
    "    rewards=0\n",
    "    action_history=[]\n",
    "    counting=0\n",
    "    while(not grid.state):\n",
    "        counting+=1\n",
    "        iteration+=1\n",
    "        curpos=grid.player.curpos[:]\n",
    "        state_list.append(curpos)\n",
    "\n",
    "        action_index=np.random.choice(4, p=mu_policy_mat[0:4,curpos[0],curpos[1]])\n",
    "        state,cur_state,reward,action=grid.transition(action_index)\n",
    "        action_history.append(action)\n",
    "        if counting==200:\n",
    "            break\n",
    "\n",
    "    action_history.reverse()\n",
    "    state_list.reverse()   \n",
    "    G=0\n",
    "\n",
    "    similarity=1\n",
    "    for action,pos in zip(action_history,state_list):\n",
    "        pi_policy=grid.policy[action][pos[0]][pos[1]]\n",
    "        mu_policy=mu_policy_mat[action][pos[0]][pos[1]]\n",
    "        similarity*=pi_policy/mu_policy\n",
    "        G=G*k+(grid.fix_reward_val)\n",
    "        \n",
    "        Counter[pos[0]][pos[1]]+=1\n",
    "        \n",
    "        \n",
    "        \n",
    "        \n",
    "       # grid.vst[pos[0]][pos[1]]=grid.vst[pos[0]][pos[1]]+(0.001)*(similarity*G-grid.vst[pos[0]][pos[1]])\n",
    "        grid.vst[pos[0]][pos[1]]=grid.vst[pos[0]][pos[1]]+(1/Counter[pos[0]][pos[1]])*(similarity*G-grid.vst[pos[0]][pos[1]])\n",
    "    grid.vst=np.round(grid.vst,3)\n",
    "    history.append(grid.vst[:].copy())\n",
    "        \n",
    "\n",
    "\n"
   ]
  },
  {
   "cell_type": "code",
   "execution_count": 294,
   "metadata": {},
   "outputs": [
    {
     "data": {
      "image/png": "[encoded data removed]",
      "text/plain": [
       "<Figure size 432x288 with 1 Axes>"
      ]
     },
     "metadata": {
      "needs_background": "light"
     },
     "output_type": "display_data"
    }
   ],
   "source": [
    "import matplotlib.pyplot as plt\n",
    "\n",
    "history=np.array(history).reshape(num_episodes,16)\n",
    "for i in range(16):\n",
    "    plt.plot(history[0:num_episodes,i]*-1)"
   ]
  },
  {
   "cell_type": "code",
   "execution_count": 297,
   "metadata": {},
   "outputs": [],
   "source": [
    "grid=env.Grid_game(height,width)\n",
    "Counter=np.zeros((width,height))\n",
    "#starty=0\n",
    "#startx=3\n",
    "history=[]\n",
    "Returns=np.zeros((height,width))\n",
    "rewards=0\n",
    "k=0.8\n",
    "\n",
    "y,x=grid.player.curpos\n",
    "\n",
    "num_episodes=10000\n",
    "for i in range(num_episodes):\n",
    "    state_list=[]\n",
    "    starty,startx = random.choice(states[1:-1])\n",
    "    grid.set_pos(starty,startx)\n",
    "    iteration=0\n",
    "    rewards=0\n",
    "    \n",
    "    while(not grid.state):\n",
    "        \n",
    "        oldpos=grid.player.curpos[:]\n",
    "        iteration+=1\n",
    "        \n",
    "        \n",
    "        action_index=np.random.choice(4, p=mu_policy_mat[0:4,oldpos[0],oldpos[1]])\n",
    "        state,cur_state,reward,action=grid.transition(action_index)\n",
    "        \n",
    "        val=0.25/mu_policy_mat[action_index][oldpos[0]][oldpos[1]]\n",
    "        \n",
    "        curpos=grid.player.curpos[:]\n",
    "        Counter[curpos[0]][curpos[1]]+=1\n",
    "        \n",
    "        \n",
    "        grid.vst[oldpos[0]][oldpos[1]]=grid.vst[oldpos[0]][oldpos[1]]+(1/Counter[curpos[0]][curpos[1]])*(val*(-1+k*grid.vst[curpos[0]][curpos[1]])\n",
    "                                                                                               -grid.vst[oldpos[0]][oldpos[1]])\n",
    "        grid.vst=np.round(grid.vst,3)\n",
    "        \n",
    "    history.append(grid.vst[:].copy())\n",
    "        "
   ]
  },
  {
   "cell_type": "code",
   "execution_count": 298,
   "metadata": {},
   "outputs": [
    {
     "data": {
      "image/png": "[encoded data removed]",
      "text/plain": [
       "<Figure size 432x288 with 1 Axes>"
      ]
     },
     "metadata": {
      "needs_background": "light"
     },
     "output_type": "display_data"
    }
   ],
   "source": [
    "import matplotlib.pyplot as plt\n",
    "\n",
    "history=np.array(history).reshape(num_episodes,16)\n",
    "for i in range(16):\n",
    "    plt.plot(history[0:num_episodes,i]*-1)"
   ]
  },
  {
   "cell_type": "code",
   "execution_count": null,
   "metadata": {},
   "outputs": [],
   "source": []
  }
 ],
 "metadata": {
  "kernelspec": {
   "display_name": "Python 3",
   "language": "python",
   "name": "python3"
  },
  "language_info": {
   "codemirror_mode": {
    "name": "ipython",
    "version": 3
   },
   "file_extension": ".py",
   "mimetype": "text/x-python",
   "name": "python",
   "nbconvert_exporter": "python",
   "pygments_lexer": "ipython3",
   "version": "3.7.5"
  }
 },
 "nbformat": 4,
 "nbformat_minor": 4
}
